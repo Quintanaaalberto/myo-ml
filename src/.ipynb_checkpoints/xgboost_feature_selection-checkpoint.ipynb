{
 "cells": [
  {
   "cell_type": "markdown",
   "metadata": {},
   "source": [
    "# XGBOOST feature selection\n",
    "* check features from processed data\n",
    "* train a XGB model with kCV where k = 10"
   ]
  },
  {
   "cell_type": "code",
   "execution_count": 3,
   "metadata": {},
   "outputs": [],
   "source": [
    "# import libraries\n",
    "import pandas as pd\n",
    "from sklearn.ensemble import RandomForestClassifier, GradientBoostingClassifier\n",
    "from sklearn.decomposition import PCA\n",
    "from sklearn.preprocessing import StandardScaler\n",
    "from sklearn.model_selection import train_test_split\n",
    "from sklearn.metrics import accuracy_score\n",
    "from sklearn.metrics import mean_squared_error\n",
    "from sklearn.metrics import confusion_matrix\n",
    "import matplotlib.pyplot as plt\n",
    "import seaborn as sns\n",
    "import numpy as np\n",
    "# libraries for feature selection\n",
    "import os \n",
    "import glob"
   ]
  },
  {
   "cell_type": "code",
   "execution_count": 4,
   "metadata": {},
   "outputs": [
    {
     "data": {
      "text/html": [
       "<pre style=\"white-space:pre;overflow-x:auto;line-height:normal;font-family:Menlo,'DejaVu Sans Mono',consolas,'Courier New',monospace\"><span style=\"color: #7fbfbf; text-decoration-color: #7fbfbf\">[18:39:36] </span><span style=\"color: #000080; text-decoration-color: #000080\">INFO    </span> Starting the program <span style=\"color: #808000; text-decoration-color: #808000\">...</span>                                                       <a href=\"file:///var/folders/5p/s9095ksd0zqfxtsgcx027bbr0000gn/T/ipykernel_96767/4041520490.py\" target=\"_blank\"><span style=\"color: #7f7f7f; text-decoration-color: #7f7f7f\">4041520490.py</span></a><span style=\"color: #7f7f7f; text-decoration-color: #7f7f7f\">:</span><a href=\"file:///var/folders/5p/s9095ksd0zqfxtsgcx027bbr0000gn/T/ipykernel_96767/4041520490.py#12\" target=\"_blank\"><span style=\"color: #7f7f7f; text-decoration-color: #7f7f7f\">12</span></a>\n",
       "</pre>\n"
      ],
      "text/plain": [
       "\u001b[2;36m[18:39:36]\u001b[0m\u001b[2;36m \u001b[0m\u001b[34mINFO    \u001b[0m Starting the program \u001b[33m...\u001b[0m                                                       \u001b]8;id=624799;file:///var/folders/5p/s9095ksd0zqfxtsgcx027bbr0000gn/T/ipykernel_96767/4041520490.py\u001b\\\u001b[2m4041520490.py\u001b[0m\u001b]8;;\u001b\\\u001b[2m:\u001b[0m\u001b]8;id=86227;file:///var/folders/5p/s9095ksd0zqfxtsgcx027bbr0000gn/T/ipykernel_96767/4041520490.py#12\u001b\\\u001b[2m12\u001b[0m\u001b]8;;\u001b\\\n"
      ]
     },
     "metadata": {},
     "output_type": "display_data"
    }
   ],
   "source": [
    "# terminal libraries, logger\n",
    "from rich.logging import RichHandler\n",
    "from rich.progress import track\n",
    "import logging\n",
    "\n",
    "FORMAT = \"%(message)s\"\n",
    "logging.basicConfig(\n",
    "    level=\"NOTSET\", format=FORMAT, datefmt=\"[%X]\", handlers=[RichHandler()]\n",
    ")\n",
    "\n",
    "log = logging.getLogger(\"rich\")\n",
    "log.info(\"Starting the program ...\")\n"
   ]
  },
  {
   "cell_type": "markdown",
   "metadata": {},
   "source": [
    "### functions"
   ]
  },
  {
   "cell_type": "code",
   "execution_count": 5,
   "metadata": {},
   "outputs": [],
   "source": [
    "# Load the data\n",
    "def load_and_combine_data(path):\n",
    "    # Load all the csv files from the path\n",
    "    os.chdir(path)\n",
    "    extension = 'csv'\n",
    "    all_filenames = [i for i in glob.glob('*.{}'.format(extension))]\n",
    "    log.info(f\"Loaded {len(all_filenames)} files from {path}.\")\n",
    "\n",
    "    def load_data(filepath):\n",
    "        df = pd.read_csv(filepath)\n",
    "        log.info(f\"Loaded {filepath}.\")\n",
    "        return df\n",
    "\n",
    "    combined_csv = pd.concat([load_data(f) for f in track(all_filenames, description=\"Loading CSV files...\")])\n",
    "    log.info(f\"Combined {len(all_filenames)} files into one dataframe.\")\n",
    "    \n",
    "    return combined_csv\n",
    "\n",
    "# Load the data forma single csv file\n",
    "def load_single_csv(path):\n",
    "    df = pd.read_csv(path)\n",
    "    log.info(f\"Loaded {path}.\")\n",
    "    return df\n"
   ]
  },
  {
   "cell_type": "code",
   "execution_count": 6,
   "metadata": {},
   "outputs": [],
   "source": [
    "from sklearn.model_selection import KFold\n",
    "\n",
    "# function to train XGBoost model\n",
    "def train_xgboost(X_train, X_test, y_train, y_test):\n",
    "    model = GradientBoostingClassifier().fit(X_train, y_train)\n",
    "    y_pred = model.predict(X_test)\n",
    "    return y_pred, model\n",
    "\n",
    "\n",
    "# function to train Random Forest model\n",
    "def train_random_forest(X_train, X_test, y_train, y_test):\n",
    "    model = RandomForestClassifier().fit(X_train, y_train)\n",
    "    y_pred = model.predict(X_test)\n",
    "    return y_pred, model"
   ]
  },
  {
   "cell_type": "code",
   "execution_count": 7,
   "metadata": {},
   "outputs": [],
   "source": [
    "# function to plot confusion matrix\n",
    "def plot_confusion_matrix(y_test, y_pred):\n",
    "    cm = confusion_matrix(y_test, y_pred)\n",
    "    plt.figure(figsize=(10, 7))\n",
    "    sns.heatmap(cm, annot=True, fmt='g')\n",
    "    plt.title('Confusion Matrix')\n",
    "    plt.xlabel('Predicted')\n",
    "    plt.ylabel('Actual')\n",
    "    plt.show()\n",
    "\n",
    "# function to plot accuracy\n",
    "def plot_accuracy(y_test, y_pred):\n",
    "    accuracy = accuracy_score(y_test, y_pred)\n",
    "    plt.figure(figsize=(10, 7))\n",
    "    sns.barplot(x=['Accuracy'], y=[accuracy])\n",
    "    plt.title('Accuracy')\n",
    "    plt.show()\n",
    "\n",
    "# function to plot mean squared error\n",
    "def plot_mse(y_test, y_pred):\n",
    "    mse = mean_squared_error(y_test, y_pred)\n",
    "    plt.figure(figsize=(10, 7))\n",
    "    sns.barplot(x=['MSE'], y=[mse])\n",
    "    plt.title('Mean Squared Error')\n",
    "    plt.show()\n",
    "\n",
    "# function to plot actual vs predicted\n",
    "def plot_actual_vs_predicted(y_test, y_pred):\n",
    "    plt.figure(figsize=(10, 7))\n",
    "    plt.plot(y_test, label='Actual')\n",
    "    plt.plot(y_pred, label='Predicted')\n",
    "    plt.legend()\n",
    "    plt.title('Actual vs Predicted')\n",
    "    plt.show()\n",
    "\n",
    "# function to plot feature importance\n",
    "def plot_feature_importance(model, features):\n",
    "    plt.figure(figsize=(10, 7))\n",
    "    sns.barplot(x=model.feature_importances_, y=features.columns)\n",
    "    plt.title('Feature Importance')\n",
    "    plt.show()\n"
   ]
  },
  {
   "cell_type": "code",
   "execution_count": 8,
   "metadata": {},
   "outputs": [],
   "source": [
    "def k_fold_xg(df, k=10):\n",
    "    # Split the data into features and target\n",
    "    X = df.drop(['grasp', 'ts'], axis=1)\n",
    "    y = df['grasp']\n",
    "\n",
    "    # Define the k-fold cross-validation\n",
    "    kf = KFold(n_splits=k, shuffle=True, random_state=42)\n",
    "\n",
    "    # Initialize variables to keep track of the best model\n",
    "    best_accuracy = 0\n",
    "    best_model = None\n",
    "    best_model_type = ''\n",
    "    best_X_test = None\n",
    "    best_y_test = None\n",
    "\n",
    "    # Loop through all folds\n",
    "    for fold, (train_index, test_index) in track(enumerate(kf.split(X, y)), description=\"Running k-fold cross-validation...\"):\n",
    "        log.info(f\"Starting fold {fold + 1}/{k}...\")\n",
    "\n",
    "        # Split data into train and test sets for the current fold\n",
    "        X_train, X_test = X.iloc[train_index], X.iloc[test_index]\n",
    "        y_train, y_test = y.iloc[train_index], y.iloc[test_index]\n",
    "        log.info(f\"Split data into train and test sets for fold {fold + 1}/{k}.\")\n",
    "\n",
    "        # Train and evaluate XGBoost model\n",
    "        y_pred_xgb, xg_model = train_xgboost(X_train, X_test, y_train, y_test)\n",
    "        accuracy_xgb = accuracy_score(y_test, y_pred_xgb)\n",
    "        log.info(f\"Trained XGBoost model for fold {fold + 1}/{k}.\")\n",
    "\n",
    "        # Train and evaluate Random Forest model\n",
    "        y_pred_rf, rf_model = train_random_forest(X_train, X_test, y_train, y_test)\n",
    "        accuracy_rf = accuracy_score(y_test, y_pred_rf)\n",
    "        log.info(f\"Trained Random Forest model for fold {fold + 1}/{k}.\")\n",
    "\n",
    "        # Check which model performed better and save it if it's the best so far\n",
    "        if accuracy_xgb > accuracy_rf and accuracy_xgb > best_accuracy:\n",
    "            best_accuracy = accuracy_xgb\n",
    "            best_model = xg_model\n",
    "            best_model_type = 'XGBoost'\n",
    "            best_X_test = X_test\n",
    "            best_y_test = y_test\n",
    "            log.info(f\"Best model is XGBoost with accuracy {best_accuracy}. In fold {fold + 1}/{k}.\")\n",
    "        elif accuracy_rf > accuracy_xgb and accuracy_rf > best_accuracy:\n",
    "            best_accuracy = accuracy_rf\n",
    "            best_model = rf_model\n",
    "            best_model_type = 'Random Forest'\n",
    "            best_X_test = X_test\n",
    "            best_y_test = y_test\n",
    "            log.info(f\"Best model is Random Forest with accuracy {best_accuracy}. In fold {fold + 1}/{k}.\")\n",
    "\n",
    "        log.info(f\"Completed fold {fold + 1}/{k}.\")\n",
    "\n",
    "    # After all folds, plot the best model's results\n",
    "    log.info(f\"Best model is {best_model_type} with accuracy {best_accuracy}.\")\n",
    "    best_y_pred = best_model.predict(best_X_test)\n",
    "    plot_confusion_matrix(best_y_test, best_y_pred)\n",
    "    plot_accuracy(best_y_test, best_y_pred)\n",
    "    plot_mse(best_y_test, best_y_pred)\n",
    "    plot_actual_vs_predicted(best_y_test, best_y_pred)\n",
    "    plot_feature_importance(best_model, X.dropna(axis=1))\n",
    "\n",
    "    log.info(f\"Finished k-fold cross-validation.\")"
   ]
  },
  {
   "cell_type": "markdown",
   "metadata": {},
   "source": [
    "## MAIN"
   ]
  },
  {
   "cell_type": "code",
   "execution_count": 13,
   "metadata": {},
   "outputs": [
    {
     "data": {
      "text/html": [
       "<pre style=\"white-space:pre;overflow-x:auto;line-height:normal;font-family:Menlo,'DejaVu Sans Mono',consolas,'Courier New',monospace\"><span style=\"color: #7fbfbf; text-decoration-color: #7fbfbf\">[18:43:05] </span><span style=\"color: #000080; text-decoration-color: #000080\">INFO    </span> Loaded ..<span style=\"color: #800080; text-decoration-color: #800080\">/data/processed_data/</span><span style=\"color: #ff00ff; text-decoration-color: #ff00ff\">subject_010.csv.</span>                                 <a href=\"file:///var/folders/5p/s9095ksd0zqfxtsgcx027bbr0000gn/T/ipykernel_96767/1604078616.py\" target=\"_blank\"><span style=\"color: #7f7f7f; text-decoration-color: #7f7f7f\">1604078616.py</span></a><span style=\"color: #7f7f7f; text-decoration-color: #7f7f7f\">:</span><a href=\"file:///var/folders/5p/s9095ksd0zqfxtsgcx027bbr0000gn/T/ipykernel_96767/1604078616.py#22\" target=\"_blank\"><span style=\"color: #7f7f7f; text-decoration-color: #7f7f7f\">22</span></a>\n",
       "</pre>\n"
      ],
      "text/plain": [
       "\u001b[2;36m[18:43:05]\u001b[0m\u001b[2;36m \u001b[0m\u001b[34mINFO    \u001b[0m Loaded ..\u001b[35m/data/processed_data/\u001b[0m\u001b[95msubject_010.csv.\u001b[0m                                 \u001b]8;id=772804;file:///var/folders/5p/s9095ksd0zqfxtsgcx027bbr0000gn/T/ipykernel_96767/1604078616.py\u001b\\\u001b[2m1604078616.py\u001b[0m\u001b]8;;\u001b\\\u001b[2m:\u001b[0m\u001b]8;id=561580;file:///var/folders/5p/s9095ksd0zqfxtsgcx027bbr0000gn/T/ipykernel_96767/1604078616.py#22\u001b\\\u001b[2m22\u001b[0m\u001b]8;;\u001b\\\n"
      ]
     },
     "metadata": {},
     "output_type": "display_data"
    },
    {
     "data": {
      "text/html": [
       "<pre style=\"white-space:pre;overflow-x:auto;line-height:normal;font-family:Menlo,'DejaVu Sans Mono',consolas,'Courier New',monospace\"><span style=\"color: #7fbfbf; text-decoration-color: #7fbfbf\">           </span><span style=\"color: #000080; text-decoration-color: #000080\">INFO    </span>        MAV0       ZC0      SSC0       WL0      RMS0          VAR0      LOG0  \\ <a href=\"file:///var/folders/5p/s9095ksd0zqfxtsgcx027bbr0000gn/T/ipykernel_96767/1951632961.py\" target=\"_blank\"><span style=\"color: #7f7f7f; text-decoration-color: #7f7f7f\">1951632961.py</span></a><span style=\"color: #7f7f7f; text-decoration-color: #7f7f7f\">:</span><a href=\"file:///var/folders/5p/s9095ksd0zqfxtsgcx027bbr0000gn/T/ipykernel_96767/1951632961.py#10\" target=\"_blank\"><span style=\"color: #7f7f7f; text-decoration-color: #7f7f7f\">10</span></a>\n",
       "<span style=\"color: #7fbfbf; text-decoration-color: #7fbfbf\">           </span>         <span style=\"color: #008080; text-decoration-color: #008080; font-weight: bold\">0</span>  <span style=\"color: #008080; text-decoration-color: #008080; font-weight: bold\">0.000003</span>  <span style=\"color: #008080; text-decoration-color: #008080; font-weight: bold\">0.156250</span>  <span style=\"color: #008080; text-decoration-color: #008080; font-weight: bold\">0.338542</span>  <span style=\"color: #008080; text-decoration-color: #008080; font-weight: bold\">0.000001</span>  <span style=\"color: #008080; text-decoration-color: #008080; font-weight: bold\">0.000004</span>  <span style=\"color: #008080; text-decoration-color: #008080; font-weight: bold\">1.612673e-11</span>  <span style=\"color: #008080; text-decoration-color: #008080; font-weight: bold\">0.000002</span>    <span style=\"color: #7f7f7f; text-decoration-color: #7f7f7f\">                </span>\n",
       "<span style=\"color: #7fbfbf; text-decoration-color: #7fbfbf\">           </span>         <span style=\"color: #008080; text-decoration-color: #008080; font-weight: bold\">1</span>  <span style=\"color: #008080; text-decoration-color: #008080; font-weight: bold\">0.000003</span>  <span style=\"color: #008080; text-decoration-color: #008080; font-weight: bold\">0.202073</span>  <span style=\"color: #008080; text-decoration-color: #008080; font-weight: bold\">0.336788</span>  <span style=\"color: #008080; text-decoration-color: #008080; font-weight: bold\">0.000002</span>  <span style=\"color: #008080; text-decoration-color: #008080; font-weight: bold\">0.000005</span>  <span style=\"color: #008080; text-decoration-color: #008080; font-weight: bold\">2.599275e-11</span>  <span style=\"color: #008080; text-decoration-color: #008080; font-weight: bold\">0.000002</span>    <span style=\"color: #7f7f7f; text-decoration-color: #7f7f7f\">                </span>\n",
       "<span style=\"color: #7fbfbf; text-decoration-color: #7fbfbf\">           </span>         <span style=\"color: #008080; text-decoration-color: #008080; font-weight: bold\">2</span>  <span style=\"color: #008080; text-decoration-color: #008080; font-weight: bold\">0.000003</span>  <span style=\"color: #008080; text-decoration-color: #008080; font-weight: bold\">0.145078</span>  <span style=\"color: #008080; text-decoration-color: #008080; font-weight: bold\">0.331606</span>  <span style=\"color: #008080; text-decoration-color: #008080; font-weight: bold\">0.000002</span>  <span style=\"color: #008080; text-decoration-color: #008080; font-weight: bold\">0.000005</span>  <span style=\"color: #008080; text-decoration-color: #008080; font-weight: bold\">2.454870e-11</span>  <span style=\"color: #008080; text-decoration-color: #008080; font-weight: bold\">0.000002</span>    <span style=\"color: #7f7f7f; text-decoration-color: #7f7f7f\">                </span>\n",
       "<span style=\"color: #7fbfbf; text-decoration-color: #7fbfbf\">           </span>         <span style=\"color: #008080; text-decoration-color: #008080; font-weight: bold\">3</span>  <span style=\"color: #008080; text-decoration-color: #008080; font-weight: bold\">0.000003</span>  <span style=\"color: #008080; text-decoration-color: #008080; font-weight: bold\">0.171875</span>  <span style=\"color: #008080; text-decoration-color: #008080; font-weight: bold\">0.322917</span>  <span style=\"color: #008080; text-decoration-color: #008080; font-weight: bold\">0.000001</span>  <span style=\"color: #008080; text-decoration-color: #008080; font-weight: bold\">0.000004</span>  <span style=\"color: #008080; text-decoration-color: #008080; font-weight: bold\">1.272511e-11</span>  <span style=\"color: #008080; text-decoration-color: #008080; font-weight: bold\">0.000002</span>    <span style=\"color: #7f7f7f; text-decoration-color: #7f7f7f\">                </span>\n",
       "<span style=\"color: #7fbfbf; text-decoration-color: #7fbfbf\">           </span>         <span style=\"color: #008080; text-decoration-color: #008080; font-weight: bold\">4</span>  <span style=\"color: #008080; text-decoration-color: #008080; font-weight: bold\">0.000002</span>  <span style=\"color: #008080; text-decoration-color: #008080; font-weight: bold\">0.176166</span>  <span style=\"color: #008080; text-decoration-color: #008080; font-weight: bold\">0.321244</span>  <span style=\"color: #008080; text-decoration-color: #008080; font-weight: bold\">0.000001</span>  <span style=\"color: #008080; text-decoration-color: #008080; font-weight: bold\">0.000003</span>  <span style=\"color: #008080; text-decoration-color: #008080; font-weight: bold\">1.033333e-11</span>  <span style=\"color: #008080; text-decoration-color: #008080; font-weight: bold\">0.000002</span>    <span style=\"color: #7f7f7f; text-decoration-color: #7f7f7f\">                </span>\n",
       "<span style=\"color: #7fbfbf; text-decoration-color: #7fbfbf\">           </span>                                                                                        <span style=\"color: #7f7f7f; text-decoration-color: #7f7f7f\">                </span>\n",
       "<span style=\"color: #7fbfbf; text-decoration-color: #7fbfbf\">           </span>               IEMG0  MNF_real0  MNF_imag0  <span style=\"color: #808000; text-decoration-color: #808000\">...</span>  SKF_real11  SKF_imag11  KUF_real11  \\  <span style=\"color: #7f7f7f; text-decoration-color: #7f7f7f\">                </span>\n",
       "<span style=\"color: #7fbfbf; text-decoration-color: #7fbfbf\">           </span>         <span style=\"color: #008080; text-decoration-color: #008080; font-weight: bold\">0</span>  <span style=\"color: #008080; text-decoration-color: #008080; font-weight: bold\">0.000602</span>   <span style=\"color: #008080; text-decoration-color: #008080; font-weight: bold\">0.107012</span>   <span style=\"color: #008080; text-decoration-color: #008080; font-weight: bold\">0.104630</span>  <span style=\"color: #808000; text-decoration-color: #808000\">...</span>    <span style=\"color: #008080; text-decoration-color: #008080; font-weight: bold\">0.250060</span>    <span style=\"color: #008080; text-decoration-color: #008080; font-weight: bold\">0.250043</span>    <span style=\"color: #008080; text-decoration-color: #008080; font-weight: bold\">0.250080</span>     <span style=\"color: #7f7f7f; text-decoration-color: #7f7f7f\">                </span>\n",
       "<span style=\"color: #7fbfbf; text-decoration-color: #7fbfbf\">           </span>         <span style=\"color: #008080; text-decoration-color: #008080; font-weight: bold\">1</span>  <span style=\"color: #008080; text-decoration-color: #008080; font-weight: bold\">0.000648</span>   <span style=\"color: #008080; text-decoration-color: #008080; font-weight: bold\">0.103550</span>   <span style=\"color: #008080; text-decoration-color: #008080; font-weight: bold\">0.109092</span>  <span style=\"color: #808000; text-decoration-color: #808000\">...</span>    <span style=\"color: #008080; text-decoration-color: #008080; font-weight: bold\">0.248748</span>    <span style=\"color: #008080; text-decoration-color: #008080; font-weight: bold\">0.248751</span>    <span style=\"color: #008080; text-decoration-color: #008080; font-weight: bold\">0.248763</span>     <span style=\"color: #7f7f7f; text-decoration-color: #7f7f7f\">                </span>\n",
       "<span style=\"color: #7fbfbf; text-decoration-color: #7fbfbf\">           </span>         <span style=\"color: #008080; text-decoration-color: #008080; font-weight: bold\">2</span>  <span style=\"color: #008080; text-decoration-color: #008080; font-weight: bold\">0.000669</span>   <span style=\"color: #008080; text-decoration-color: #008080; font-weight: bold\">0.101020</span>   <span style=\"color: #008080; text-decoration-color: #008080; font-weight: bold\">0.106314</span>  <span style=\"color: #808000; text-decoration-color: #808000\">...</span>    <span style=\"color: #008080; text-decoration-color: #008080; font-weight: bold\">0.248784</span>    <span style=\"color: #008080; text-decoration-color: #008080; font-weight: bold\">0.248748</span>    <span style=\"color: #008080; text-decoration-color: #008080; font-weight: bold\">0.248810</span>     <span style=\"color: #7f7f7f; text-decoration-color: #7f7f7f\">                </span>\n",
       "<span style=\"color: #7fbfbf; text-decoration-color: #7fbfbf\">           </span>         <span style=\"color: #008080; text-decoration-color: #008080; font-weight: bold\">3</span>  <span style=\"color: #008080; text-decoration-color: #008080; font-weight: bold\">0.000516</span>   <span style=\"color: #008080; text-decoration-color: #008080; font-weight: bold\">0.127651</span>   <span style=\"color: #008080; text-decoration-color: #008080; font-weight: bold\">0.112898</span>  <span style=\"color: #808000; text-decoration-color: #808000\">...</span>    <span style=\"color: #008080; text-decoration-color: #008080; font-weight: bold\">0.250032</span>    <span style=\"color: #008080; text-decoration-color: #008080; font-weight: bold\">0.250047</span>    <span style=\"color: #008080; text-decoration-color: #008080; font-weight: bold\">0.250043</span>     <span style=\"color: #7f7f7f; text-decoration-color: #7f7f7f\">                </span>\n",
       "<span style=\"color: #7fbfbf; text-decoration-color: #7fbfbf\">           </span>         <span style=\"color: #008080; text-decoration-color: #008080; font-weight: bold\">4</span>  <span style=\"color: #008080; text-decoration-color: #008080; font-weight: bold\">0.000475</span>   <span style=\"color: #008080; text-decoration-color: #008080; font-weight: bold\">0.126625</span>   <span style=\"color: #008080; text-decoration-color: #008080; font-weight: bold\">0.117621</span>  <span style=\"color: #808000; text-decoration-color: #808000\">...</span>    <span style=\"color: #008080; text-decoration-color: #008080; font-weight: bold\">0.248745</span>    <span style=\"color: #008080; text-decoration-color: #008080; font-weight: bold\">0.248766</span>    <span style=\"color: #008080; text-decoration-color: #008080; font-weight: bold\">0.248759</span>     <span style=\"color: #7f7f7f; text-decoration-color: #7f7f7f\">                </span>\n",
       "<span style=\"color: #7fbfbf; text-decoration-color: #7fbfbf\">           </span>                                                                                        <span style=\"color: #7f7f7f; text-decoration-color: #7f7f7f\">                </span>\n",
       "<span style=\"color: #7fbfbf; text-decoration-color: #7fbfbf\">           </span>            KUF_imag11  MAXPSD11_real  MAXPSD11_imag  MINPSD11_real  MINPSD11_imag  \\   <span style=\"color: #7f7f7f; text-decoration-color: #7f7f7f\">                </span>\n",
       "<span style=\"color: #7fbfbf; text-decoration-color: #7fbfbf\">           </span>         <span style=\"color: #008080; text-decoration-color: #008080; font-weight: bold\">0</span>    <span style=\"color: #008080; text-decoration-color: #008080; font-weight: bold\">0.250058</span>   <span style=\"color: #008080; text-decoration-color: #008080; font-weight: bold\">2.136455e-08</span>   <span style=\"color: #008080; text-decoration-color: #008080; font-weight: bold\">1.394703e-08</span>   <span style=\"color: #008080; text-decoration-color: #008080; font-weight: bold\">1.196153e-15</span>            <span style=\"color: #008080; text-decoration-color: #008080; font-weight: bold\">0.0</span>      <span style=\"color: #7f7f7f; text-decoration-color: #7f7f7f\">                </span>\n",
       "<span style=\"color: #7fbfbf; text-decoration-color: #7fbfbf\">           </span>         <span style=\"color: #008080; text-decoration-color: #008080; font-weight: bold\">1</span>    <span style=\"color: #008080; text-decoration-color: #008080; font-weight: bold\">0.248766</span>   <span style=\"color: #008080; text-decoration-color: #008080; font-weight: bold\">2.194821e-08</span>   <span style=\"color: #008080; text-decoration-color: #008080; font-weight: bold\">8.373398e-09</span>   <span style=\"color: #008080; text-decoration-color: #008080; font-weight: bold\">8.587776e-14</span>            <span style=\"color: #008080; text-decoration-color: #008080; font-weight: bold\">0.0</span>      <span style=\"color: #7f7f7f; text-decoration-color: #7f7f7f\">                </span>\n",
       "<span style=\"color: #7fbfbf; text-decoration-color: #7fbfbf\">           </span>         <span style=\"color: #008080; text-decoration-color: #008080; font-weight: bold\">2</span>    <span style=\"color: #008080; text-decoration-color: #008080; font-weight: bold\">0.248762</span>   <span style=\"color: #008080; text-decoration-color: #008080; font-weight: bold\">2.696580e-08</span>   <span style=\"color: #008080; text-decoration-color: #008080; font-weight: bold\">3.758184e-08</span>   <span style=\"color: #008080; text-decoration-color: #008080; font-weight: bold\">4.780079e-16</span>            <span style=\"color: #008080; text-decoration-color: #008080; font-weight: bold\">0.0</span>      <span style=\"color: #7f7f7f; text-decoration-color: #7f7f7f\">                </span>\n",
       "<span style=\"color: #7fbfbf; text-decoration-color: #7fbfbf\">           </span>         <span style=\"color: #008080; text-decoration-color: #008080; font-weight: bold\">3</span>    <span style=\"color: #008080; text-decoration-color: #008080; font-weight: bold\">0.250062</span>   <span style=\"color: #008080; text-decoration-color: #008080; font-weight: bold\">1.271739e-08</span>   <span style=\"color: #008080; text-decoration-color: #008080; font-weight: bold\">1.203147e-08</span>   <span style=\"color: #008080; text-decoration-color: #008080; font-weight: bold\">2.257072e-14</span>            <span style=\"color: #008080; text-decoration-color: #008080; font-weight: bold\">0.0</span>      <span style=\"color: #7f7f7f; text-decoration-color: #7f7f7f\">                </span>\n",
       "<span style=\"color: #7fbfbf; text-decoration-color: #7fbfbf\">           </span>         <span style=\"color: #008080; text-decoration-color: #008080; font-weight: bold\">4</span>    <span style=\"color: #008080; text-decoration-color: #008080; font-weight: bold\">0.248786</span>   <span style=\"color: #008080; text-decoration-color: #008080; font-weight: bold\">1.748059e-08</span>   <span style=\"color: #008080; text-decoration-color: #008080; font-weight: bold\">2.126701e-08</span>   <span style=\"color: #008080; text-decoration-color: #008080; font-weight: bold\">8.555701e-14</span>            <span style=\"color: #008080; text-decoration-color: #008080; font-weight: bold\">0.0</span>      <span style=\"color: #7f7f7f; text-decoration-color: #7f7f7f\">                </span>\n",
       "<span style=\"color: #7fbfbf; text-decoration-color: #7fbfbf\">           </span>                                                                                        <span style=\"color: #7f7f7f; text-decoration-color: #7f7f7f\">                </span>\n",
       "<span style=\"color: #7fbfbf; text-decoration-color: #7fbfbf\">           </span>                    ts  grasp                                                           <span style=\"color: #7f7f7f; text-decoration-color: #7f7f7f\">                </span>\n",
       "<span style=\"color: #7fbfbf; text-decoration-color: #7fbfbf\">           </span>         <span style=\"color: #008080; text-decoration-color: #008080; font-weight: bold\">0</span>  <span style=\"color: #008080; text-decoration-color: #008080; font-weight: bold\">173.424297</span>      <span style=\"color: #008080; text-decoration-color: #008080; font-weight: bold\">1</span>                                                           <span style=\"color: #7f7f7f; text-decoration-color: #7f7f7f\">                </span>\n",
       "<span style=\"color: #7fbfbf; text-decoration-color: #7fbfbf\">           </span>         <span style=\"color: #008080; text-decoration-color: #008080; font-weight: bold\">1</span>  <span style=\"color: #008080; text-decoration-color: #008080; font-weight: bold\">173.524246</span>      <span style=\"color: #008080; text-decoration-color: #008080; font-weight: bold\">1</span>                                                           <span style=\"color: #7f7f7f; text-decoration-color: #7f7f7f\">                </span>\n",
       "<span style=\"color: #7fbfbf; text-decoration-color: #7fbfbf\">           </span>         <span style=\"color: #008080; text-decoration-color: #008080; font-weight: bold\">2</span>  <span style=\"color: #008080; text-decoration-color: #008080; font-weight: bold\">173.623936</span>      <span style=\"color: #008080; text-decoration-color: #008080; font-weight: bold\">1</span>                                                           <span style=\"color: #7f7f7f; text-decoration-color: #7f7f7f\">                </span>\n",
       "<span style=\"color: #7fbfbf; text-decoration-color: #7fbfbf\">           </span>         <span style=\"color: #008080; text-decoration-color: #008080; font-weight: bold\">3</span>  <span style=\"color: #008080; text-decoration-color: #008080; font-weight: bold\">173.723885</span>      <span style=\"color: #008080; text-decoration-color: #008080; font-weight: bold\">1</span>                                                           <span style=\"color: #7f7f7f; text-decoration-color: #7f7f7f\">                </span>\n",
       "<span style=\"color: #7fbfbf; text-decoration-color: #7fbfbf\">           </span>         <span style=\"color: #008080; text-decoration-color: #008080; font-weight: bold\">4</span>  <span style=\"color: #008080; text-decoration-color: #008080; font-weight: bold\">173.823834</span>      <span style=\"color: #008080; text-decoration-color: #008080; font-weight: bold\">1</span>                                                           <span style=\"color: #7f7f7f; text-decoration-color: #7f7f7f\">                </span>\n",
       "<span style=\"color: #7fbfbf; text-decoration-color: #7fbfbf\">           </span>                                                                                        <span style=\"color: #7f7f7f; text-decoration-color: #7f7f7f\">                </span>\n",
       "<span style=\"color: #7fbfbf; text-decoration-color: #7fbfbf\">           </span>         <span style=\"font-weight: bold\">[</span><span style=\"color: #008080; text-decoration-color: #008080; font-weight: bold\">5</span> rows x <span style=\"color: #008080; text-decoration-color: #008080; font-weight: bold\">350</span> columns<span style=\"font-weight: bold\">]</span>                                                         <span style=\"color: #7f7f7f; text-decoration-color: #7f7f7f\">                </span>\n",
       "</pre>\n"
      ],
      "text/plain": [
       "\u001b[2;36m          \u001b[0m\u001b[2;36m \u001b[0m\u001b[34mINFO    \u001b[0m        MAV0       ZC0      SSC0       WL0      RMS0          VAR0      LOG0  \\ \u001b]8;id=791234;file:///var/folders/5p/s9095ksd0zqfxtsgcx027bbr0000gn/T/ipykernel_96767/1951632961.py\u001b\\\u001b[2m1951632961.py\u001b[0m\u001b]8;;\u001b\\\u001b[2m:\u001b[0m\u001b]8;id=195693;file:///var/folders/5p/s9095ksd0zqfxtsgcx027bbr0000gn/T/ipykernel_96767/1951632961.py#10\u001b\\\u001b[2m10\u001b[0m\u001b]8;;\u001b\\\n",
       "\u001b[2;36m           \u001b[0m         \u001b[1;36m0\u001b[0m  \u001b[1;36m0.000003\u001b[0m  \u001b[1;36m0.156250\u001b[0m  \u001b[1;36m0.338542\u001b[0m  \u001b[1;36m0.000001\u001b[0m  \u001b[1;36m0.000004\u001b[0m  \u001b[1;36m1.612673e-11\u001b[0m  \u001b[1;36m0.000002\u001b[0m    \u001b[2m                \u001b[0m\n",
       "\u001b[2;36m           \u001b[0m         \u001b[1;36m1\u001b[0m  \u001b[1;36m0.000003\u001b[0m  \u001b[1;36m0.202073\u001b[0m  \u001b[1;36m0.336788\u001b[0m  \u001b[1;36m0.000002\u001b[0m  \u001b[1;36m0.000005\u001b[0m  \u001b[1;36m2.599275e-11\u001b[0m  \u001b[1;36m0.000002\u001b[0m    \u001b[2m                \u001b[0m\n",
       "\u001b[2;36m           \u001b[0m         \u001b[1;36m2\u001b[0m  \u001b[1;36m0.000003\u001b[0m  \u001b[1;36m0.145078\u001b[0m  \u001b[1;36m0.331606\u001b[0m  \u001b[1;36m0.000002\u001b[0m  \u001b[1;36m0.000005\u001b[0m  \u001b[1;36m2.454870e-11\u001b[0m  \u001b[1;36m0.000002\u001b[0m    \u001b[2m                \u001b[0m\n",
       "\u001b[2;36m           \u001b[0m         \u001b[1;36m3\u001b[0m  \u001b[1;36m0.000003\u001b[0m  \u001b[1;36m0.171875\u001b[0m  \u001b[1;36m0.322917\u001b[0m  \u001b[1;36m0.000001\u001b[0m  \u001b[1;36m0.000004\u001b[0m  \u001b[1;36m1.272511e-11\u001b[0m  \u001b[1;36m0.000002\u001b[0m    \u001b[2m                \u001b[0m\n",
       "\u001b[2;36m           \u001b[0m         \u001b[1;36m4\u001b[0m  \u001b[1;36m0.000002\u001b[0m  \u001b[1;36m0.176166\u001b[0m  \u001b[1;36m0.321244\u001b[0m  \u001b[1;36m0.000001\u001b[0m  \u001b[1;36m0.000003\u001b[0m  \u001b[1;36m1.033333e-11\u001b[0m  \u001b[1;36m0.000002\u001b[0m    \u001b[2m                \u001b[0m\n",
       "\u001b[2;36m           \u001b[0m                                                                                        \u001b[2m                \u001b[0m\n",
       "\u001b[2;36m           \u001b[0m               IEMG0  MNF_real0  MNF_imag0  \u001b[33m...\u001b[0m  SKF_real11  SKF_imag11  KUF_real11  \\  \u001b[2m                \u001b[0m\n",
       "\u001b[2;36m           \u001b[0m         \u001b[1;36m0\u001b[0m  \u001b[1;36m0.000602\u001b[0m   \u001b[1;36m0.107012\u001b[0m   \u001b[1;36m0.104630\u001b[0m  \u001b[33m...\u001b[0m    \u001b[1;36m0.250060\u001b[0m    \u001b[1;36m0.250043\u001b[0m    \u001b[1;36m0.250080\u001b[0m     \u001b[2m                \u001b[0m\n",
       "\u001b[2;36m           \u001b[0m         \u001b[1;36m1\u001b[0m  \u001b[1;36m0.000648\u001b[0m   \u001b[1;36m0.103550\u001b[0m   \u001b[1;36m0.109092\u001b[0m  \u001b[33m...\u001b[0m    \u001b[1;36m0.248748\u001b[0m    \u001b[1;36m0.248751\u001b[0m    \u001b[1;36m0.248763\u001b[0m     \u001b[2m                \u001b[0m\n",
       "\u001b[2;36m           \u001b[0m         \u001b[1;36m2\u001b[0m  \u001b[1;36m0.000669\u001b[0m   \u001b[1;36m0.101020\u001b[0m   \u001b[1;36m0.106314\u001b[0m  \u001b[33m...\u001b[0m    \u001b[1;36m0.248784\u001b[0m    \u001b[1;36m0.248748\u001b[0m    \u001b[1;36m0.248810\u001b[0m     \u001b[2m                \u001b[0m\n",
       "\u001b[2;36m           \u001b[0m         \u001b[1;36m3\u001b[0m  \u001b[1;36m0.000516\u001b[0m   \u001b[1;36m0.127651\u001b[0m   \u001b[1;36m0.112898\u001b[0m  \u001b[33m...\u001b[0m    \u001b[1;36m0.250032\u001b[0m    \u001b[1;36m0.250047\u001b[0m    \u001b[1;36m0.250043\u001b[0m     \u001b[2m                \u001b[0m\n",
       "\u001b[2;36m           \u001b[0m         \u001b[1;36m4\u001b[0m  \u001b[1;36m0.000475\u001b[0m   \u001b[1;36m0.126625\u001b[0m   \u001b[1;36m0.117621\u001b[0m  \u001b[33m...\u001b[0m    \u001b[1;36m0.248745\u001b[0m    \u001b[1;36m0.248766\u001b[0m    \u001b[1;36m0.248759\u001b[0m     \u001b[2m                \u001b[0m\n",
       "\u001b[2;36m           \u001b[0m                                                                                        \u001b[2m                \u001b[0m\n",
       "\u001b[2;36m           \u001b[0m            KUF_imag11  MAXPSD11_real  MAXPSD11_imag  MINPSD11_real  MINPSD11_imag  \\   \u001b[2m                \u001b[0m\n",
       "\u001b[2;36m           \u001b[0m         \u001b[1;36m0\u001b[0m    \u001b[1;36m0.250058\u001b[0m   \u001b[1;36m2.136455e-08\u001b[0m   \u001b[1;36m1.394703e-08\u001b[0m   \u001b[1;36m1.196153e-15\u001b[0m            \u001b[1;36m0.0\u001b[0m      \u001b[2m                \u001b[0m\n",
       "\u001b[2;36m           \u001b[0m         \u001b[1;36m1\u001b[0m    \u001b[1;36m0.248766\u001b[0m   \u001b[1;36m2.194821e-08\u001b[0m   \u001b[1;36m8.373398e-09\u001b[0m   \u001b[1;36m8.587776e-14\u001b[0m            \u001b[1;36m0.0\u001b[0m      \u001b[2m                \u001b[0m\n",
       "\u001b[2;36m           \u001b[0m         \u001b[1;36m2\u001b[0m    \u001b[1;36m0.248762\u001b[0m   \u001b[1;36m2.696580e-08\u001b[0m   \u001b[1;36m3.758184e-08\u001b[0m   \u001b[1;36m4.780079e-16\u001b[0m            \u001b[1;36m0.0\u001b[0m      \u001b[2m                \u001b[0m\n",
       "\u001b[2;36m           \u001b[0m         \u001b[1;36m3\u001b[0m    \u001b[1;36m0.250062\u001b[0m   \u001b[1;36m1.271739e-08\u001b[0m   \u001b[1;36m1.203147e-08\u001b[0m   \u001b[1;36m2.257072e-14\u001b[0m            \u001b[1;36m0.0\u001b[0m      \u001b[2m                \u001b[0m\n",
       "\u001b[2;36m           \u001b[0m         \u001b[1;36m4\u001b[0m    \u001b[1;36m0.248786\u001b[0m   \u001b[1;36m1.748059e-08\u001b[0m   \u001b[1;36m2.126701e-08\u001b[0m   \u001b[1;36m8.555701e-14\u001b[0m            \u001b[1;36m0.0\u001b[0m      \u001b[2m                \u001b[0m\n",
       "\u001b[2;36m           \u001b[0m                                                                                        \u001b[2m                \u001b[0m\n",
       "\u001b[2;36m           \u001b[0m                    ts  grasp                                                           \u001b[2m                \u001b[0m\n",
       "\u001b[2;36m           \u001b[0m         \u001b[1;36m0\u001b[0m  \u001b[1;36m173.424297\u001b[0m      \u001b[1;36m1\u001b[0m                                                           \u001b[2m                \u001b[0m\n",
       "\u001b[2;36m           \u001b[0m         \u001b[1;36m1\u001b[0m  \u001b[1;36m173.524246\u001b[0m      \u001b[1;36m1\u001b[0m                                                           \u001b[2m                \u001b[0m\n",
       "\u001b[2;36m           \u001b[0m         \u001b[1;36m2\u001b[0m  \u001b[1;36m173.623936\u001b[0m      \u001b[1;36m1\u001b[0m                                                           \u001b[2m                \u001b[0m\n",
       "\u001b[2;36m           \u001b[0m         \u001b[1;36m3\u001b[0m  \u001b[1;36m173.723885\u001b[0m      \u001b[1;36m1\u001b[0m                                                           \u001b[2m                \u001b[0m\n",
       "\u001b[2;36m           \u001b[0m         \u001b[1;36m4\u001b[0m  \u001b[1;36m173.823834\u001b[0m      \u001b[1;36m1\u001b[0m                                                           \u001b[2m                \u001b[0m\n",
       "\u001b[2;36m           \u001b[0m                                                                                        \u001b[2m                \u001b[0m\n",
       "\u001b[2;36m           \u001b[0m         \u001b[1m[\u001b[0m\u001b[1;36m5\u001b[0m rows x \u001b[1;36m350\u001b[0m columns\u001b[1m]\u001b[0m                                                         \u001b[2m                \u001b[0m\n"
      ]
     },
     "metadata": {},
     "output_type": "display_data"
    },
    {
     "data": {
      "text/html": [
       "<pre style=\"white-space:pre;overflow-x:auto;line-height:normal;font-family:Menlo,'DejaVu Sans Mono',consolas,'Courier New',monospace\"><span style=\"color: #7fbfbf; text-decoration-color: #7fbfbf\">           </span><span style=\"color: #000080; text-decoration-color: #000080\">INFO    </span>    grasp          ts                                                           <a href=\"file:///var/folders/5p/s9095ksd0zqfxtsgcx027bbr0000gn/T/ipykernel_96767/1951632961.py\" target=\"_blank\"><span style=\"color: #7f7f7f; text-decoration-color: #7f7f7f\">1951632961.py</span></a><span style=\"color: #7f7f7f; text-decoration-color: #7f7f7f\">:</span><a href=\"file:///var/folders/5p/s9095ksd0zqfxtsgcx027bbr0000gn/T/ipykernel_96767/1951632961.py#13\" target=\"_blank\"><span style=\"color: #7f7f7f; text-decoration-color: #7f7f7f\">13</span></a>\n",
       "<span style=\"color: #7fbfbf; text-decoration-color: #7fbfbf\">           </span>         <span style=\"color: #008080; text-decoration-color: #008080; font-weight: bold\">0</span>      <span style=\"color: #008080; text-decoration-color: #008080; font-weight: bold\">1</span>  <span style=\"color: #008080; text-decoration-color: #008080; font-weight: bold\">173.424297</span>                                                           <span style=\"color: #7f7f7f; text-decoration-color: #7f7f7f\">                </span>\n",
       "<span style=\"color: #7fbfbf; text-decoration-color: #7fbfbf\">           </span>         <span style=\"color: #008080; text-decoration-color: #008080; font-weight: bold\">1</span>      <span style=\"color: #008080; text-decoration-color: #008080; font-weight: bold\">1</span>  <span style=\"color: #008080; text-decoration-color: #008080; font-weight: bold\">173.524246</span>                                                           <span style=\"color: #7f7f7f; text-decoration-color: #7f7f7f\">                </span>\n",
       "<span style=\"color: #7fbfbf; text-decoration-color: #7fbfbf\">           </span>         <span style=\"color: #008080; text-decoration-color: #008080; font-weight: bold\">2</span>      <span style=\"color: #008080; text-decoration-color: #008080; font-weight: bold\">1</span>  <span style=\"color: #008080; text-decoration-color: #008080; font-weight: bold\">173.623936</span>                                                           <span style=\"color: #7f7f7f; text-decoration-color: #7f7f7f\">                </span>\n",
       "<span style=\"color: #7fbfbf; text-decoration-color: #7fbfbf\">           </span>         <span style=\"color: #008080; text-decoration-color: #008080; font-weight: bold\">3</span>      <span style=\"color: #008080; text-decoration-color: #008080; font-weight: bold\">1</span>  <span style=\"color: #008080; text-decoration-color: #008080; font-weight: bold\">173.723885</span>                                                           <span style=\"color: #7f7f7f; text-decoration-color: #7f7f7f\">                </span>\n",
       "<span style=\"color: #7fbfbf; text-decoration-color: #7fbfbf\">           </span>         <span style=\"color: #008080; text-decoration-color: #008080; font-weight: bold\">4</span>      <span style=\"color: #008080; text-decoration-color: #008080; font-weight: bold\">1</span>  <span style=\"color: #008080; text-decoration-color: #008080; font-weight: bold\">173.823834</span>                                                           <span style=\"color: #7f7f7f; text-decoration-color: #7f7f7f\">                </span>\n",
       "</pre>\n"
      ],
      "text/plain": [
       "\u001b[2;36m          \u001b[0m\u001b[2;36m \u001b[0m\u001b[34mINFO    \u001b[0m    grasp          ts                                                           \u001b]8;id=57513;file:///var/folders/5p/s9095ksd0zqfxtsgcx027bbr0000gn/T/ipykernel_96767/1951632961.py\u001b\\\u001b[2m1951632961.py\u001b[0m\u001b]8;;\u001b\\\u001b[2m:\u001b[0m\u001b]8;id=792467;file:///var/folders/5p/s9095ksd0zqfxtsgcx027bbr0000gn/T/ipykernel_96767/1951632961.py#13\u001b\\\u001b[2m13\u001b[0m\u001b]8;;\u001b\\\n",
       "\u001b[2;36m           \u001b[0m         \u001b[1;36m0\u001b[0m      \u001b[1;36m1\u001b[0m  \u001b[1;36m173.424297\u001b[0m                                                           \u001b[2m                \u001b[0m\n",
       "\u001b[2;36m           \u001b[0m         \u001b[1;36m1\u001b[0m      \u001b[1;36m1\u001b[0m  \u001b[1;36m173.524246\u001b[0m                                                           \u001b[2m                \u001b[0m\n",
       "\u001b[2;36m           \u001b[0m         \u001b[1;36m2\u001b[0m      \u001b[1;36m1\u001b[0m  \u001b[1;36m173.623936\u001b[0m                                                           \u001b[2m                \u001b[0m\n",
       "\u001b[2;36m           \u001b[0m         \u001b[1;36m3\u001b[0m      \u001b[1;36m1\u001b[0m  \u001b[1;36m173.723885\u001b[0m                                                           \u001b[2m                \u001b[0m\n",
       "\u001b[2;36m           \u001b[0m         \u001b[1;36m4\u001b[0m      \u001b[1;36m1\u001b[0m  \u001b[1;36m173.823834\u001b[0m                                                           \u001b[2m                \u001b[0m\n"
      ]
     },
     "metadata": {},
     "output_type": "display_data"
    }
   ],
   "source": [
    "# ---------------------------------------------------------------------------------------------\n",
    "# MAIN:\n",
    "\n",
    "# PATHS\n",
    "path = \"data/processed_data/\"\n",
    "path_single = \"../data/processed_data/subject_010.csv\"\n",
    "\n",
    "# Load the data\n",
    "df = load_single_csv(path_single)\n",
    "log.info(df.head())\n",
    "\n",
    "# Print only the grasp and ts columns\n",
    "log.info(df[['grasp', 'ts']].head())"
   ]
  },
  {
   "cell_type": "code",
   "execution_count": 14,
   "metadata": {},
   "outputs": [
    {
     "data": {
      "application/vnd.jupyter.widget-view+json": {
       "model_id": "1352b544531545f6854c4de845278dcf",
       "version_major": 2,
       "version_minor": 0
      },
      "text/plain": [
       "Output()"
      ]
     },
     "metadata": {},
     "output_type": "display_data"
    },
    {
     "data": {
      "text/html": [
       "<pre style=\"white-space:pre;overflow-x:auto;line-height:normal;font-family:Menlo,'DejaVu Sans Mono',consolas,'Courier New',monospace\"><span style=\"color: #7fbfbf; text-decoration-color: #7fbfbf\">[18:43:17] </span><span style=\"color: #000080; text-decoration-color: #000080\">INFO    </span> Starting fold <span style=\"color: #008080; text-decoration-color: #008080; font-weight: bold\">1</span>/<span style=\"color: #008080; text-decoration-color: #008080; font-weight: bold\">10</span><span style=\"color: #808000; text-decoration-color: #808000\">...</span>                                                          <a href=\"file:///var/folders/5p/s9095ksd0zqfxtsgcx027bbr0000gn/T/ipykernel_96767/4074503103.py\" target=\"_blank\"><span style=\"color: #7f7f7f; text-decoration-color: #7f7f7f\">4074503103.py</span></a><span style=\"color: #7f7f7f; text-decoration-color: #7f7f7f\">:</span><a href=\"file:///var/folders/5p/s9095ksd0zqfxtsgcx027bbr0000gn/T/ipykernel_96767/4074503103.py#18\" target=\"_blank\"><span style=\"color: #7f7f7f; text-decoration-color: #7f7f7f\">18</span></a>\n",
       "</pre>\n"
      ],
      "text/plain": [
       "\u001b[2;36m[18:43:17]\u001b[0m\u001b[2;36m \u001b[0m\u001b[34mINFO    \u001b[0m Starting fold \u001b[1;36m1\u001b[0m/\u001b[1;36m10\u001b[0m\u001b[33m...\u001b[0m                                                          \u001b]8;id=933405;file:///var/folders/5p/s9095ksd0zqfxtsgcx027bbr0000gn/T/ipykernel_96767/4074503103.py\u001b\\\u001b[2m4074503103.py\u001b[0m\u001b]8;;\u001b\\\u001b[2m:\u001b[0m\u001b]8;id=44975;file:///var/folders/5p/s9095ksd0zqfxtsgcx027bbr0000gn/T/ipykernel_96767/4074503103.py#18\u001b\\\u001b[2m18\u001b[0m\u001b]8;;\u001b\\\n"
      ]
     },
     "metadata": {},
     "output_type": "display_data"
    },
    {
     "data": {
      "text/html": [
       "<pre style=\"white-space:pre;overflow-x:auto;line-height:normal;font-family:Menlo,'DejaVu Sans Mono',consolas,'Courier New',monospace\"><span style=\"color: #7fbfbf; text-decoration-color: #7fbfbf\">           </span><span style=\"color: #000080; text-decoration-color: #000080\">INFO    </span> Split data into train and test sets for fold <span style=\"color: #008080; text-decoration-color: #008080; font-weight: bold\">1</span>/<span style=\"color: #008080; text-decoration-color: #008080; font-weight: bold\">10</span>.                             <a href=\"file:///var/folders/5p/s9095ksd0zqfxtsgcx027bbr0000gn/T/ipykernel_96767/4074503103.py\" target=\"_blank\"><span style=\"color: #7f7f7f; text-decoration-color: #7f7f7f\">4074503103.py</span></a><span style=\"color: #7f7f7f; text-decoration-color: #7f7f7f\">:</span><a href=\"file:///var/folders/5p/s9095ksd0zqfxtsgcx027bbr0000gn/T/ipykernel_96767/4074503103.py#23\" target=\"_blank\"><span style=\"color: #7f7f7f; text-decoration-color: #7f7f7f\">23</span></a>\n",
       "</pre>\n"
      ],
      "text/plain": [
       "\u001b[2;36m          \u001b[0m\u001b[2;36m \u001b[0m\u001b[34mINFO    \u001b[0m Split data into train and test sets for fold \u001b[1;36m1\u001b[0m/\u001b[1;36m10\u001b[0m.                             \u001b]8;id=989507;file:///var/folders/5p/s9095ksd0zqfxtsgcx027bbr0000gn/T/ipykernel_96767/4074503103.py\u001b\\\u001b[2m4074503103.py\u001b[0m\u001b]8;;\u001b\\\u001b[2m:\u001b[0m\u001b]8;id=212309;file:///var/folders/5p/s9095ksd0zqfxtsgcx027bbr0000gn/T/ipykernel_96767/4074503103.py#23\u001b\\\u001b[2m23\u001b[0m\u001b]8;;\u001b\\\n"
      ]
     },
     "metadata": {},
     "output_type": "display_data"
    },
    {
     "data": {
      "text/html": [
       "<pre style=\"white-space:pre;overflow-x:auto;line-height:normal;font-family:Menlo,'DejaVu Sans Mono',consolas,'Courier New',monospace\"></pre>\n"
      ],
      "text/plain": []
     },
     "metadata": {},
     "output_type": "display_data"
    },
    {
     "data": {
      "text/html": [
       "<pre style=\"white-space:pre;overflow-x:auto;line-height:normal;font-family:Menlo,'DejaVu Sans Mono',consolas,'Courier New',monospace\">\n",
       "</pre>\n"
      ],
      "text/plain": [
       "\n"
      ]
     },
     "metadata": {},
     "output_type": "display_data"
    },
    {
     "ename": "KeyboardInterrupt",
     "evalue": "",
     "output_type": "error",
     "traceback": [
      "\u001b[0;31m---------------------------------------------------------------------------\u001b[0m",
      "\u001b[0;31mKeyboardInterrupt\u001b[0m                         Traceback (most recent call last)",
      "\u001b[1;32m/Users/albertoquintana/git/myo-ml/src/xgboost_feature_selection.ipynb Cell 11\u001b[0m line \u001b[0;36m2\n\u001b[1;32m      <a href='vscode-notebook-cell:/Users/albertoquintana/git/myo-ml/src/xgboost_feature_selection.ipynb#X14sZmlsZQ%3D%3D?line=0'>1</a>\u001b[0m \u001b[39m# To run k-fold cross-validation\u001b[39;00m\n\u001b[0;32m----> <a href='vscode-notebook-cell:/Users/albertoquintana/git/myo-ml/src/xgboost_feature_selection.ipynb#X14sZmlsZQ%3D%3D?line=1'>2</a>\u001b[0m k_fold_xg(df, k\u001b[39m=\u001b[39m\u001b[39m10\u001b[39m)\n",
      "\u001b[1;32m/Users/albertoquintana/git/myo-ml/src/xgboost_feature_selection.ipynb Cell 11\u001b[0m line \u001b[0;36m2\n\u001b[1;32m     <a href='vscode-notebook-cell:/Users/albertoquintana/git/myo-ml/src/xgboost_feature_selection.ipynb#X14sZmlsZQ%3D%3D?line=22'>23</a>\u001b[0m log\u001b[39m.\u001b[39minfo(\u001b[39mf\u001b[39m\u001b[39m\"\u001b[39m\u001b[39mSplit data into train and test sets for fold \u001b[39m\u001b[39m{\u001b[39;00mfold\u001b[39m \u001b[39m\u001b[39m+\u001b[39m\u001b[39m \u001b[39m\u001b[39m1\u001b[39m\u001b[39m}\u001b[39;00m\u001b[39m/\u001b[39m\u001b[39m{\u001b[39;00mk\u001b[39m}\u001b[39;00m\u001b[39m.\u001b[39m\u001b[39m\"\u001b[39m)\n\u001b[1;32m     <a href='vscode-notebook-cell:/Users/albertoquintana/git/myo-ml/src/xgboost_feature_selection.ipynb#X14sZmlsZQ%3D%3D?line=24'>25</a>\u001b[0m \u001b[39m# Train and evaluate XGBoost model\u001b[39;00m\n\u001b[0;32m---> <a href='vscode-notebook-cell:/Users/albertoquintana/git/myo-ml/src/xgboost_feature_selection.ipynb#X14sZmlsZQ%3D%3D?line=25'>26</a>\u001b[0m y_pred_xgb, xg_model \u001b[39m=\u001b[39m train_xgboost(X_train, X_test, y_train, y_test)\n\u001b[1;32m     <a href='vscode-notebook-cell:/Users/albertoquintana/git/myo-ml/src/xgboost_feature_selection.ipynb#X14sZmlsZQ%3D%3D?line=26'>27</a>\u001b[0m accuracy_xgb \u001b[39m=\u001b[39m accuracy_score(y_test, y_pred_xgb)\n\u001b[1;32m     <a href='vscode-notebook-cell:/Users/albertoquintana/git/myo-ml/src/xgboost_feature_selection.ipynb#X14sZmlsZQ%3D%3D?line=27'>28</a>\u001b[0m log\u001b[39m.\u001b[39minfo(\u001b[39mf\u001b[39m\u001b[39m\"\u001b[39m\u001b[39mTrained XGBoost model for fold \u001b[39m\u001b[39m{\u001b[39;00mfold\u001b[39m \u001b[39m\u001b[39m+\u001b[39m\u001b[39m \u001b[39m\u001b[39m1\u001b[39m\u001b[39m}\u001b[39;00m\u001b[39m/\u001b[39m\u001b[39m{\u001b[39;00mk\u001b[39m}\u001b[39;00m\u001b[39m.\u001b[39m\u001b[39m\"\u001b[39m)\n",
      "\u001b[1;32m/Users/albertoquintana/git/myo-ml/src/xgboost_feature_selection.ipynb Cell 11\u001b[0m line \u001b[0;36m5\n\u001b[1;32m      <a href='vscode-notebook-cell:/Users/albertoquintana/git/myo-ml/src/xgboost_feature_selection.ipynb#X14sZmlsZQ%3D%3D?line=3'>4</a>\u001b[0m \u001b[39mdef\u001b[39;00m \u001b[39mtrain_xgboost\u001b[39m(X_train, X_test, y_train, y_test):\n\u001b[0;32m----> <a href='vscode-notebook-cell:/Users/albertoquintana/git/myo-ml/src/xgboost_feature_selection.ipynb#X14sZmlsZQ%3D%3D?line=4'>5</a>\u001b[0m     model \u001b[39m=\u001b[39m GradientBoostingClassifier()\u001b[39m.\u001b[39mfit(X_train, y_train)\n\u001b[1;32m      <a href='vscode-notebook-cell:/Users/albertoquintana/git/myo-ml/src/xgboost_feature_selection.ipynb#X14sZmlsZQ%3D%3D?line=5'>6</a>\u001b[0m     y_pred \u001b[39m=\u001b[39m model\u001b[39m.\u001b[39mpredict(X_test)\n\u001b[1;32m      <a href='vscode-notebook-cell:/Users/albertoquintana/git/myo-ml/src/xgboost_feature_selection.ipynb#X14sZmlsZQ%3D%3D?line=6'>7</a>\u001b[0m     \u001b[39mreturn\u001b[39;00m y_pred, model\n",
      "File \u001b[0;32m~/miniconda3/envs/ml/lib/python3.11/site-packages/sklearn/ensemble/_gb.py:538\u001b[0m, in \u001b[0;36mBaseGradientBoosting.fit\u001b[0;34m(self, X, y, sample_weight, monitor)\u001b[0m\n\u001b[1;32m    535\u001b[0m     \u001b[39mself\u001b[39m\u001b[39m.\u001b[39m_resize_state()\n\u001b[1;32m    537\u001b[0m \u001b[39m# fit the boosting stages\u001b[39;00m\n\u001b[0;32m--> 538\u001b[0m n_stages \u001b[39m=\u001b[39m \u001b[39mself\u001b[39m\u001b[39m.\u001b[39m_fit_stages(\n\u001b[1;32m    539\u001b[0m     X,\n\u001b[1;32m    540\u001b[0m     y,\n\u001b[1;32m    541\u001b[0m     raw_predictions,\n\u001b[1;32m    542\u001b[0m     sample_weight,\n\u001b[1;32m    543\u001b[0m     \u001b[39mself\u001b[39m\u001b[39m.\u001b[39m_rng,\n\u001b[1;32m    544\u001b[0m     X_val,\n\u001b[1;32m    545\u001b[0m     y_val,\n\u001b[1;32m    546\u001b[0m     sample_weight_val,\n\u001b[1;32m    547\u001b[0m     begin_at_stage,\n\u001b[1;32m    548\u001b[0m     monitor,\n\u001b[1;32m    549\u001b[0m )\n\u001b[1;32m    551\u001b[0m \u001b[39m# change shape of arrays after fit (early-stopping or additional ests)\u001b[39;00m\n\u001b[1;32m    552\u001b[0m \u001b[39mif\u001b[39;00m n_stages \u001b[39m!=\u001b[39m \u001b[39mself\u001b[39m\u001b[39m.\u001b[39mestimators_\u001b[39m.\u001b[39mshape[\u001b[39m0\u001b[39m]:\n",
      "File \u001b[0;32m~/miniconda3/envs/ml/lib/python3.11/site-packages/sklearn/ensemble/_gb.py:615\u001b[0m, in \u001b[0;36mBaseGradientBoosting._fit_stages\u001b[0;34m(self, X, y, raw_predictions, sample_weight, random_state, X_val, y_val, sample_weight_val, begin_at_stage, monitor)\u001b[0m\n\u001b[1;32m    608\u001b[0m     old_oob_score \u001b[39m=\u001b[39m loss_(\n\u001b[1;32m    609\u001b[0m         y[\u001b[39m~\u001b[39msample_mask],\n\u001b[1;32m    610\u001b[0m         raw_predictions[\u001b[39m~\u001b[39msample_mask],\n\u001b[1;32m    611\u001b[0m         sample_weight[\u001b[39m~\u001b[39msample_mask],\n\u001b[1;32m    612\u001b[0m     )\n\u001b[1;32m    614\u001b[0m \u001b[39m# fit next stage of trees\u001b[39;00m\n\u001b[0;32m--> 615\u001b[0m raw_predictions \u001b[39m=\u001b[39m \u001b[39mself\u001b[39m\u001b[39m.\u001b[39m_fit_stage(\n\u001b[1;32m    616\u001b[0m     i,\n\u001b[1;32m    617\u001b[0m     X,\n\u001b[1;32m    618\u001b[0m     y,\n\u001b[1;32m    619\u001b[0m     raw_predictions,\n\u001b[1;32m    620\u001b[0m     sample_weight,\n\u001b[1;32m    621\u001b[0m     sample_mask,\n\u001b[1;32m    622\u001b[0m     random_state,\n\u001b[1;32m    623\u001b[0m     X_csc,\n\u001b[1;32m    624\u001b[0m     X_csr,\n\u001b[1;32m    625\u001b[0m )\n\u001b[1;32m    627\u001b[0m \u001b[39m# track deviance (= loss)\u001b[39;00m\n\u001b[1;32m    628\u001b[0m \u001b[39mif\u001b[39;00m do_oob:\n",
      "File \u001b[0;32m~/miniconda3/envs/ml/lib/python3.11/site-packages/sklearn/ensemble/_gb.py:257\u001b[0m, in \u001b[0;36mBaseGradientBoosting._fit_stage\u001b[0;34m(self, i, X, y, raw_predictions, sample_weight, sample_mask, random_state, X_csc, X_csr)\u001b[0m\n\u001b[1;32m    254\u001b[0m     sample_weight \u001b[39m=\u001b[39m sample_weight \u001b[39m*\u001b[39m sample_mask\u001b[39m.\u001b[39mastype(np\u001b[39m.\u001b[39mfloat64)\n\u001b[1;32m    256\u001b[0m X \u001b[39m=\u001b[39m X_csr \u001b[39mif\u001b[39;00m X_csr \u001b[39mis\u001b[39;00m \u001b[39mnot\u001b[39;00m \u001b[39mNone\u001b[39;00m \u001b[39melse\u001b[39;00m X\n\u001b[0;32m--> 257\u001b[0m tree\u001b[39m.\u001b[39mfit(X, residual, sample_weight\u001b[39m=\u001b[39msample_weight, check_input\u001b[39m=\u001b[39m\u001b[39mFalse\u001b[39;00m)\n\u001b[1;32m    259\u001b[0m \u001b[39m# update tree leaves\u001b[39;00m\n\u001b[1;32m    260\u001b[0m loss\u001b[39m.\u001b[39mupdate_terminal_regions(\n\u001b[1;32m    261\u001b[0m     tree\u001b[39m.\u001b[39mtree_,\n\u001b[1;32m    262\u001b[0m     X,\n\u001b[0;32m   (...)\u001b[0m\n\u001b[1;32m    269\u001b[0m     k\u001b[39m=\u001b[39mk,\n\u001b[1;32m    270\u001b[0m )\n",
      "File \u001b[0;32m~/miniconda3/envs/ml/lib/python3.11/site-packages/sklearn/tree/_classes.py:1247\u001b[0m, in \u001b[0;36mDecisionTreeRegressor.fit\u001b[0;34m(self, X, y, sample_weight, check_input)\u001b[0m\n\u001b[1;32m   1218\u001b[0m \u001b[39mdef\u001b[39;00m \u001b[39mfit\u001b[39m(\u001b[39mself\u001b[39m, X, y, sample_weight\u001b[39m=\u001b[39m\u001b[39mNone\u001b[39;00m, check_input\u001b[39m=\u001b[39m\u001b[39mTrue\u001b[39;00m):\n\u001b[1;32m   1219\u001b[0m \u001b[39m    \u001b[39m\u001b[39m\"\"\"Build a decision tree regressor from the training set (X, y).\u001b[39;00m\n\u001b[1;32m   1220\u001b[0m \n\u001b[1;32m   1221\u001b[0m \u001b[39m    Parameters\u001b[39;00m\n\u001b[0;32m   (...)\u001b[0m\n\u001b[1;32m   1244\u001b[0m \u001b[39m        Fitted estimator.\u001b[39;00m\n\u001b[1;32m   1245\u001b[0m \u001b[39m    \"\"\"\u001b[39;00m\n\u001b[0;32m-> 1247\u001b[0m     \u001b[39msuper\u001b[39m()\u001b[39m.\u001b[39mfit(\n\u001b[1;32m   1248\u001b[0m         X,\n\u001b[1;32m   1249\u001b[0m         y,\n\u001b[1;32m   1250\u001b[0m         sample_weight\u001b[39m=\u001b[39msample_weight,\n\u001b[1;32m   1251\u001b[0m         check_input\u001b[39m=\u001b[39mcheck_input,\n\u001b[1;32m   1252\u001b[0m     )\n\u001b[1;32m   1253\u001b[0m     \u001b[39mreturn\u001b[39;00m \u001b[39mself\u001b[39m\n",
      "File \u001b[0;32m~/miniconda3/envs/ml/lib/python3.11/site-packages/sklearn/tree/_classes.py:379\u001b[0m, in \u001b[0;36mBaseDecisionTree.fit\u001b[0;34m(self, X, y, sample_weight, check_input)\u001b[0m\n\u001b[1;32m    368\u001b[0m \u001b[39melse\u001b[39;00m:\n\u001b[1;32m    369\u001b[0m     builder \u001b[39m=\u001b[39m BestFirstTreeBuilder(\n\u001b[1;32m    370\u001b[0m         splitter,\n\u001b[1;32m    371\u001b[0m         min_samples_split,\n\u001b[0;32m   (...)\u001b[0m\n\u001b[1;32m    376\u001b[0m         \u001b[39mself\u001b[39m\u001b[39m.\u001b[39mmin_impurity_decrease,\n\u001b[1;32m    377\u001b[0m     )\n\u001b[0;32m--> 379\u001b[0m builder\u001b[39m.\u001b[39mbuild(\u001b[39mself\u001b[39m\u001b[39m.\u001b[39mtree_, X, y, sample_weight)\n\u001b[1;32m    381\u001b[0m \u001b[39mif\u001b[39;00m \u001b[39mself\u001b[39m\u001b[39m.\u001b[39mn_outputs_ \u001b[39m==\u001b[39m \u001b[39m1\u001b[39m \u001b[39mand\u001b[39;00m is_classifier(\u001b[39mself\u001b[39m):\n\u001b[1;32m    382\u001b[0m     \u001b[39mself\u001b[39m\u001b[39m.\u001b[39mn_classes_ \u001b[39m=\u001b[39m \u001b[39mself\u001b[39m\u001b[39m.\u001b[39mn_classes_[\u001b[39m0\u001b[39m]\n",
      "\u001b[0;31mKeyboardInterrupt\u001b[0m: "
     ]
    },
    {
     "data": {
      "text/html": [
       "<pre style=\"white-space:pre;overflow-x:auto;line-height:normal;font-family:Menlo,'DejaVu Sans Mono',consolas,'Courier New',monospace\"><span style=\"color: #7fbfbf; text-decoration-color: #7fbfbf\">           </span><span style=\"color: #008000; text-decoration-color: #008000\">DEBUG   </span> handle_msg<span style=\"font-weight: bold\">[</span>1352b544531545f6854c4de845278dcf<span style=\"font-weight: bold\">]({</span><span style=\"color: #008000; text-decoration-color: #008000\">'header'</span>: <span style=\"font-weight: bold\">{</span><span style=\"color: #008000; text-decoration-color: #008000\">'date'</span>:               <a href=\"file:///Users/albertoquintana/miniconda3/envs/ml/lib/python3.11/site-packages/comm/base_comm.py\" target=\"_blank\"><span style=\"color: #7f7f7f; text-decoration-color: #7f7f7f\">base_comm.py</span></a><span style=\"color: #7f7f7f; text-decoration-color: #7f7f7f\">:</span><a href=\"file:///Users/albertoquintana/miniconda3/envs/ml/lib/python3.11/site-packages/comm/base_comm.py#150\" target=\"_blank\"><span style=\"color: #7f7f7f; text-decoration-color: #7f7f7f\">150</span></a>\n",
       "<span style=\"color: #7fbfbf; text-decoration-color: #7fbfbf\">           </span>         <span style=\"color: #800080; text-decoration-color: #800080; font-weight: bold\">datetime.datetime</span><span style=\"font-weight: bold\">(</span><span style=\"color: #008080; text-decoration-color: #008080; font-weight: bold\">2023</span>, <span style=\"color: #008080; text-decoration-color: #008080; font-weight: bold\">10</span>, <span style=\"color: #008080; text-decoration-color: #008080; font-weight: bold\">9</span>, <span style=\"color: #008080; text-decoration-color: #008080; font-weight: bold\">16</span>, <span style=\"color: #008080; text-decoration-color: #008080; font-weight: bold\">43</span>, <span style=\"color: #008080; text-decoration-color: #008080; font-weight: bold\">28</span>, <span style=\"color: #008080; text-decoration-color: #008080; font-weight: bold\">622000</span>, <span style=\"color: #808000; text-decoration-color: #808000\">tzinfo</span>=<span style=\"color: #800080; text-decoration-color: #800080; font-weight: bold\">tzutc</span><span style=\"font-weight: bold\">())</span>, <span style=\"color: #008000; text-decoration-color: #008000\">'msg_id'</span>:  <span style=\"color: #7f7f7f; text-decoration-color: #7f7f7f\">                </span>\n",
       "<span style=\"color: #7fbfbf; text-decoration-color: #7fbfbf\">           </span>         <span style=\"color: #008000; text-decoration-color: #008000\">'204a29a1-3e39-4e12-8c35-b9fecb824fc2'</span>, <span style=\"color: #008000; text-decoration-color: #008000\">'msg_type'</span>: <span style=\"color: #008000; text-decoration-color: #008000\">'comm_msg'</span>, <span style=\"color: #008000; text-decoration-color: #008000\">'session'</span>:     <span style=\"color: #7f7f7f; text-decoration-color: #7f7f7f\">                </span>\n",
       "<span style=\"color: #7fbfbf; text-decoration-color: #7fbfbf\">           </span>         <span style=\"color: #008000; text-decoration-color: #008000\">'ac00f2ef-d869-4843-a1cb-cd1e22c165ae'</span>, <span style=\"color: #008000; text-decoration-color: #008000\">'username'</span>:                            <span style=\"color: #7f7f7f; text-decoration-color: #7f7f7f\">                </span>\n",
       "<span style=\"color: #7fbfbf; text-decoration-color: #7fbfbf\">           </span>         <span style=\"color: #008000; text-decoration-color: #008000\">'7f582236-5886-404f-a2bd-a86a3955d991'</span>, <span style=\"color: #008000; text-decoration-color: #008000\">'version'</span>: <span style=\"color: #008000; text-decoration-color: #008000\">'5.2'</span><span style=\"font-weight: bold\">}</span>, <span style=\"color: #008000; text-decoration-color: #008000\">'msg_id'</span>:           <span style=\"color: #7f7f7f; text-decoration-color: #7f7f7f\">                </span>\n",
       "<span style=\"color: #7fbfbf; text-decoration-color: #7fbfbf\">           </span>         <span style=\"color: #008000; text-decoration-color: #008000\">'204a29a1-3e39-4e12-8c35-b9fecb824fc2'</span>, <span style=\"color: #008000; text-decoration-color: #008000\">'msg_type'</span>: <span style=\"color: #008000; text-decoration-color: #008000\">'comm_msg'</span>,                <span style=\"color: #7f7f7f; text-decoration-color: #7f7f7f\">                </span>\n",
       "<span style=\"color: #7fbfbf; text-decoration-color: #7fbfbf\">           </span>         <span style=\"color: #008000; text-decoration-color: #008000\">'parent_header'</span>: <span style=\"font-weight: bold\">{}</span>, <span style=\"color: #008000; text-decoration-color: #008000\">'metadata'</span>: <span style=\"font-weight: bold\">{}</span>, <span style=\"color: #008000; text-decoration-color: #008000\">'content'</span>: <span style=\"font-weight: bold\">{</span><span style=\"color: #008000; text-decoration-color: #008000\">'comm_id'</span>:                    <span style=\"color: #7f7f7f; text-decoration-color: #7f7f7f\">                </span>\n",
       "<span style=\"color: #7fbfbf; text-decoration-color: #7fbfbf\">           </span>         <span style=\"color: #008000; text-decoration-color: #008000\">'1352b544531545f6854c4de845278dcf'</span>, <span style=\"color: #008000; text-decoration-color: #008000\">'data'</span>: <span style=\"font-weight: bold\">{</span><span style=\"color: #008000; text-decoration-color: #008000\">'method'</span>: <span style=\"color: #008000; text-decoration-color: #008000\">'update'</span>, <span style=\"color: #008000; text-decoration-color: #008000\">'state'</span>:      <span style=\"color: #7f7f7f; text-decoration-color: #7f7f7f\">                </span>\n",
       "<span style=\"color: #7fbfbf; text-decoration-color: #7fbfbf\">           </span>         <span style=\"font-weight: bold\">{</span><span style=\"color: #008000; text-decoration-color: #008000\">'outputs'</span>: <span style=\"font-weight: bold\">[{</span><span style=\"color: #008000; text-decoration-color: #008000\">'output_type'</span>: <span style=\"color: #008000; text-decoration-color: #008000\">'display_data'</span>, <span style=\"color: #008000; text-decoration-color: #008000\">'data'</span>: <span style=\"font-weight: bold\">{</span><span style=\"color: #008000; text-decoration-color: #008000\">'text/plain'</span>: <span style=\"color: #008000; text-decoration-color: #008000\">'Running </span>  <span style=\"color: #7f7f7f; text-decoration-color: #7f7f7f\">                </span>\n",
       "<span style=\"color: #7fbfbf; text-decoration-color: #7fbfbf\">           </span>         <span style=\"color: #008000; text-decoration-color: #008000\">k-fold cross-validation... </span>                                                    <span style=\"color: #7f7f7f; text-decoration-color: #7f7f7f\">                </span>\n",
       "<span style=\"color: #7fbfbf; text-decoration-color: #7fbfbf\">           </span>         <span style=\"color: #008000; text-decoration-color: #008000\">\\x1b[38;2;183;44;94m━\\x1b[0m\\x1b[38;2;153;48;86m━\\x1b[0m\\x1b[38;2;123;51;77m━\\</span> <span style=\"color: #7f7f7f; text-decoration-color: #7f7f7f\">                </span>\n",
       "<span style=\"color: #7fbfbf; text-decoration-color: #7fbfbf\">           </span>         <span style=\"color: #008000; text-decoration-color: #008000\">x1b[0m\\x1b[38;2;97;53;69m━\\x1b[0m\\x1b[38;2;76;56;63m━\\x1b[0m\\x1b[38;2;62;57;59</span> <span style=\"color: #7f7f7f; text-decoration-color: #7f7f7f\">                </span>\n",
       "<span style=\"color: #7fbfbf; text-decoration-color: #7fbfbf\">           </span>         <span style=\"color: #008000; text-decoration-color: #008000\">m━\\x1b[0m\\x1b[38;2;58;58;58m━\\x1b[0m\\x1b[38;2;62;57;59m━\\x1b[0m\\x1b[38;2;76;56</span> <span style=\"color: #7f7f7f; text-decoration-color: #7f7f7f\">                </span>\n",
       "<span style=\"color: #7fbfbf; text-decoration-color: #7fbfbf\">           </span>         <span style=\"color: #008000; text-decoration-color: #008000\">;63m━\\x1b[0m\\x1b[38;2;97;53;69m━\\x1b[0m\\x1b[38;2;123;51;77m━\\x1b[0m\\x1b[38;2;1</span> <span style=\"color: #7f7f7f; text-decoration-color: #7f7f7f\">                </span>\n",
       "<span style=\"color: #7fbfbf; text-decoration-color: #7fbfbf\">           </span>         <span style=\"color: #008000; text-decoration-color: #008000\">53;48;86m━\\x1b[0m\\x1b[38;2;183;44;94m━\\x1b[0m\\x1b[38;2;209;42;102m━\\x1b[0m\\x1b</span> <span style=\"color: #7f7f7f; text-decoration-color: #7f7f7f\">                </span>\n",
       "<span style=\"color: #7fbfbf; text-decoration-color: #7fbfbf\">           </span>         <span style=\"color: #008000; text-decoration-color: #008000\">[38;2;230;39;108m━\\x1b[0m\\x1b[38;2;244;38;112m━\\x1b[0m\\x1b[38;2;249;38;114m━\\x</span> <span style=\"color: #7f7f7f; text-decoration-color: #7f7f7f\">                </span>\n",
       "<span style=\"color: #7fbfbf; text-decoration-color: #7fbfbf\">           </span>         <span style=\"color: #008000; text-decoration-color: #008000\">1b[0m\\x1b[38;2;244;38;112m━\\x1b[0m\\x1b[38;2;230;39;108m━\\x1b[0m\\x1b[38;2;209;4</span> <span style=\"color: #7f7f7f; text-decoration-color: #7f7f7f\">                </span>\n",
       "<span style=\"color: #7fbfbf; text-decoration-color: #7fbfbf\">           </span>         <span style=\"color: #008000; text-decoration-color: #008000\">2;102m━\\x1b[0m\\x1b[38;2;183;44;94m━\\x1b[0m\\x1b[38;2;153;48;86m━\\x1b[0m\\x1b[38;</span> <span style=\"color: #7f7f7f; text-decoration-color: #7f7f7f\">                </span>\n",
       "<span style=\"color: #7fbfbf; text-decoration-color: #7fbfbf\">           </span>         <span style=\"color: #008000; text-decoration-color: #008000\">2;123;51;77m━\\x1b[0m\\x1b[38;2;97;53;69m━\\x1b[0m\\x1b[38;2;76;56;63m━\\x1b[0m\\x1b</span> <span style=\"color: #7f7f7f; text-decoration-color: #7f7f7f\">                </span>\n",
       "<span style=\"color: #7fbfbf; text-decoration-color: #7fbfbf\">           </span>         <span style=\"color: #008000; text-decoration-color: #008000\">[38;2;62;57;59m━\\x1b[0m\\x1b[38;2;58;58;58m━\\x1b[0m\\x1b[38;2;62;57;59m━\\x1b[0m\\</span> <span style=\"color: #7f7f7f; text-decoration-color: #7f7f7f\">                </span>\n",
       "<span style=\"color: #7fbfbf; text-decoration-color: #7fbfbf\">           </span>         <span style=\"color: #008000; text-decoration-color: #008000\">x1b[38;2;76;56;63m━\\x1b[0m\\x1b[38;2;97;53;69m━\\x1b[0m\\x1b[38;2;123;51;77m━\\x1b</span> <span style=\"color: #7f7f7f; text-decoration-color: #7f7f7f\">                </span>\n",
       "<span style=\"color: #7fbfbf; text-decoration-color: #7fbfbf\">           </span>         <span style=\"color: #008000; text-decoration-color: #008000\">[0m\\x1b[38;2;153;48;86m━\\x1b[0m\\x1b[38;2;183;44;94m━\\x1b[0m\\x1b[38;2;209;42;10</span> <span style=\"color: #7f7f7f; text-decoration-color: #7f7f7f\">                </span>\n",
       "<span style=\"color: #7fbfbf; text-decoration-color: #7fbfbf\">           </span>         <span style=\"color: #008000; text-decoration-color: #008000\">2m━\\x1b[0m\\x1b[38;2;230;39;108m━\\x1b[0m\\x1b[38;2;244;38;112m━\\x1b[0m\\x1b[38;2;</span> <span style=\"color: #7f7f7f; text-decoration-color: #7f7f7f\">                </span>\n",
       "<span style=\"color: #7fbfbf; text-decoration-color: #7fbfbf\">           </span>         <span style=\"color: #008000; text-decoration-color: #008000\">249;38;114m━\\x1b[0m\\x1b[38;2;244;38;112m━\\x1b[0m\\x1b[38;2;230;39;108m━\\x1b[0m\\</span> <span style=\"color: #7f7f7f; text-decoration-color: #7f7f7f\">                </span>\n",
       "<span style=\"color: #7fbfbf; text-decoration-color: #7fbfbf\">           </span>         <span style=\"color: #008000; text-decoration-color: #008000\">x1b[38;2;209;42;102m━\\x1b[0m  \\x1b[36m \\x1b[0m\\n'</span>, <span style=\"color: #008000; text-decoration-color: #008000\">'text/html'</span>: <span style=\"color: #008000; text-decoration-color: #008000\">'&lt;pre </span>         <span style=\"color: #7f7f7f; text-decoration-color: #7f7f7f\">                </span>\n",
       "<span style=\"color: #7fbfbf; text-decoration-color: #7fbfbf\">           </span>         <span style=\"color: #008000; text-decoration-color: #008000\">style=\"white-space:pre;overflow-x:auto;line-height:normal;font-family:Menlo,\\'</span> <span style=\"color: #7f7f7f; text-decoration-color: #7f7f7f\">                </span>\n",
       "<span style=\"color: #7fbfbf; text-decoration-color: #7fbfbf\">           </span>         <span style=\"color: #008000; text-decoration-color: #008000\">DejaVu Sans Mono\\',consolas,\\'Courier New\\',monospace\"&gt;Running k-fold </span>         <span style=\"color: #7f7f7f; text-decoration-color: #7f7f7f\">                </span>\n",
       "<span style=\"color: #7fbfbf; text-decoration-color: #7fbfbf\">           </span>         <span style=\"color: #008000; text-decoration-color: #008000\">cross-validation... &lt;span style=\"color: #b72c5e; text-decoration-color: </span>       <span style=\"color: #7f7f7f; text-decoration-color: #7f7f7f\">                </span>\n",
       "<span style=\"color: #7fbfbf; text-decoration-color: #7fbfbf\">           </span>         <span style=\"color: #008000; text-decoration-color: #008000\">#b72c5e\"&gt;━&lt;/span&gt;&lt;span style=\"color: #993056; text-decoration-color: </span>          <span style=\"color: #7f7f7f; text-decoration-color: #7f7f7f\">                </span>\n",
       "<span style=\"color: #7fbfbf; text-decoration-color: #7fbfbf\">           </span>         <span style=\"color: #008000; text-decoration-color: #008000\">#993056\"&gt;━&lt;/span&gt;&lt;span style=\"color: #7b334d; text-decoration-color: </span>          <span style=\"color: #7f7f7f; text-decoration-color: #7f7f7f\">                </span>\n",
       "<span style=\"color: #7fbfbf; text-decoration-color: #7fbfbf\">           </span>         <span style=\"color: #008000; text-decoration-color: #008000\">#7b334d\"&gt;━&lt;/span&gt;&lt;span style=\"color: #613545; text-decoration-color: </span>          <span style=\"color: #7f7f7f; text-decoration-color: #7f7f7f\">                </span>\n",
       "<span style=\"color: #7fbfbf; text-decoration-color: #7fbfbf\">           </span>         <span style=\"color: #008000; text-decoration-color: #008000\">#613545\"&gt;━&lt;/span&gt;&lt;span style=\"color: #4c383f; text-decoration-color: </span>          <span style=\"color: #7f7f7f; text-decoration-color: #7f7f7f\">                </span>\n",
       "<span style=\"color: #7fbfbf; text-decoration-color: #7fbfbf\">           </span>         <span style=\"color: #008000; text-decoration-color: #008000\">#4c383f\"&gt;━&lt;/span&gt;&lt;span style=\"color: #3e393b; text-decoration-color: </span>          <span style=\"color: #7f7f7f; text-decoration-color: #7f7f7f\">                </span>\n",
       "<span style=\"color: #7fbfbf; text-decoration-color: #7fbfbf\">           </span>         <span style=\"color: #008000; text-decoration-color: #008000\">#3e393b\"&gt;━&lt;/span&gt;&lt;span style=\"color: #3a3a3a; text-decoration-color: </span>          <span style=\"color: #7f7f7f; text-decoration-color: #7f7f7f\">                </span>\n",
       "<span style=\"color: #7fbfbf; text-decoration-color: #7fbfbf\">           </span>         <span style=\"color: #008000; text-decoration-color: #008000\">#3a3a3a\"&gt;━&lt;/span&gt;&lt;span style=\"color: #3e393b; text-decoration-color: </span>          <span style=\"color: #7f7f7f; text-decoration-color: #7f7f7f\">                </span>\n",
       "<span style=\"color: #7fbfbf; text-decoration-color: #7fbfbf\">           </span>         <span style=\"color: #008000; text-decoration-color: #008000\">#3e393b\"&gt;━&lt;/span&gt;&lt;span style=\"color: #4c383f; text-decoration-color: </span>          <span style=\"color: #7f7f7f; text-decoration-color: #7f7f7f\">                </span>\n",
       "<span style=\"color: #7fbfbf; text-decoration-color: #7fbfbf\">           </span>         <span style=\"color: #008000; text-decoration-color: #008000\">#4c383f\"&gt;━&lt;/span&gt;&lt;span style=\"color: #613545; text-decoration-color: </span>          <span style=\"color: #7f7f7f; text-decoration-color: #7f7f7f\">                </span>\n",
       "<span style=\"color: #7fbfbf; text-decoration-color: #7fbfbf\">           </span>         <span style=\"color: #008000; text-decoration-color: #008000\">#613545\"&gt;━&lt;/span&gt;&lt;span style=\"color: #7b334d; text-decoration-color: </span>          <span style=\"color: #7f7f7f; text-decoration-color: #7f7f7f\">                </span>\n",
       "<span style=\"color: #7fbfbf; text-decoration-color: #7fbfbf\">           </span>         <span style=\"color: #008000; text-decoration-color: #008000\">#7b334d\"&gt;━&lt;/span&gt;&lt;span style=\"color: #993056; text-decoration-color: </span>          <span style=\"color: #7f7f7f; text-decoration-color: #7f7f7f\">                </span>\n",
       "<span style=\"color: #7fbfbf; text-decoration-color: #7fbfbf\">           </span>         <span style=\"color: #008000; text-decoration-color: #008000\">#993056\"&gt;━&lt;/span&gt;&lt;span style=\"color: #b72c5e; text-decoration-color: </span>          <span style=\"color: #7f7f7f; text-decoration-color: #7f7f7f\">                </span>\n",
       "<span style=\"color: #7fbfbf; text-decoration-color: #7fbfbf\">           </span>         <span style=\"color: #008000; text-decoration-color: #008000\">#b72c5e\"&gt;━&lt;/span&gt;&lt;span style=\"color: #d12a66; text-decoration-color: </span>          <span style=\"color: #7f7f7f; text-decoration-color: #7f7f7f\">                </span>\n",
       "<span style=\"color: #7fbfbf; text-decoration-color: #7fbfbf\">           </span>         <span style=\"color: #008000; text-decoration-color: #008000\">#d12a66\"&gt;━&lt;/span&gt;&lt;span style=\"color: #e6276c; text-decoration-color: </span>          <span style=\"color: #7f7f7f; text-decoration-color: #7f7f7f\">                </span>\n",
       "<span style=\"color: #7fbfbf; text-decoration-color: #7fbfbf\">           </span>         <span style=\"color: #008000; text-decoration-color: #008000\">#e6276c\"&gt;━&lt;/span&gt;&lt;span style=\"color: #f42670; text-decoration-color: </span>          <span style=\"color: #7f7f7f; text-decoration-color: #7f7f7f\">                </span>\n",
       "<span style=\"color: #7fbfbf; text-decoration-color: #7fbfbf\">           </span>         <span style=\"color: #008000; text-decoration-color: #008000\">#f42670\"&gt;━&lt;/span&gt;&lt;span style=\"color: #f92672; text-decoration-color: </span>          <span style=\"color: #7f7f7f; text-decoration-color: #7f7f7f\">                </span>\n",
       "<span style=\"color: #7fbfbf; text-decoration-color: #7fbfbf\">           </span>         <span style=\"color: #008000; text-decoration-color: #008000\">#f92672\"&gt;━&lt;/span&gt;&lt;span style=\"color: #f42670; text-decoration-color: </span>          <span style=\"color: #7f7f7f; text-decoration-color: #7f7f7f\">                </span>\n",
       "<span style=\"color: #7fbfbf; text-decoration-color: #7fbfbf\">           </span>         <span style=\"color: #008000; text-decoration-color: #008000\">#f42670\"&gt;━&lt;/span&gt;&lt;span style=\"color: #e6276c; text-decoration-color: </span>          <span style=\"color: #7f7f7f; text-decoration-color: #7f7f7f\">                </span>\n",
       "<span style=\"color: #7fbfbf; text-decoration-color: #7fbfbf\">           </span>         <span style=\"color: #008000; text-decoration-color: #008000\">#e6276c\"&gt;━&lt;/span&gt;&lt;span style=\"color: #d12a66; text-decoration-color: </span>          <span style=\"color: #7f7f7f; text-decoration-color: #7f7f7f\">                </span>\n",
       "<span style=\"color: #7fbfbf; text-decoration-color: #7fbfbf\">           </span>         <span style=\"color: #008000; text-decoration-color: #008000\">#d12a66\"&gt;━&lt;/span&gt;&lt;span style=\"color: #b72c5e; text-decoration-color: </span>          <span style=\"color: #7f7f7f; text-decoration-color: #7f7f7f\">                </span>\n",
       "<span style=\"color: #7fbfbf; text-decoration-color: #7fbfbf\">           </span>         <span style=\"color: #008000; text-decoration-color: #008000\">#b72c5e\"&gt;━&lt;/span&gt;&lt;span style=\"color: #993056; text-decoration-color: </span>          <span style=\"color: #7f7f7f; text-decoration-color: #7f7f7f\">                </span>\n",
       "<span style=\"color: #7fbfbf; text-decoration-color: #7fbfbf\">           </span>         <span style=\"color: #008000; text-decoration-color: #008000\">#993056\"&gt;━&lt;/span&gt;&lt;span style=\"color: #7b334d; text-decoration-color: </span>          <span style=\"color: #7f7f7f; text-decoration-color: #7f7f7f\">                </span>\n",
       "<span style=\"color: #7fbfbf; text-decoration-color: #7fbfbf\">           </span>         <span style=\"color: #008000; text-decoration-color: #008000\">#7b334d\"&gt;━&lt;/span&gt;&lt;span style=\"color: #613545; text-decoration-color: </span>          <span style=\"color: #7f7f7f; text-decoration-color: #7f7f7f\">                </span>\n",
       "<span style=\"color: #7fbfbf; text-decoration-color: #7fbfbf\">           </span>         <span style=\"color: #008000; text-decoration-color: #008000\">#613545\"&gt;━&lt;/span&gt;&lt;span style=\"color: #4c383f; text-decoration-color: </span>          <span style=\"color: #7f7f7f; text-decoration-color: #7f7f7f\">                </span>\n",
       "<span style=\"color: #7fbfbf; text-decoration-color: #7fbfbf\">           </span>         <span style=\"color: #008000; text-decoration-color: #008000\">#4c383f\"&gt;━&lt;/span&gt;&lt;span style=\"color: #3e393b; text-decoration-color: </span>          <span style=\"color: #7f7f7f; text-decoration-color: #7f7f7f\">                </span>\n",
       "<span style=\"color: #7fbfbf; text-decoration-color: #7fbfbf\">           </span>         <span style=\"color: #008000; text-decoration-color: #008000\">#3e393b\"&gt;━&lt;/span&gt;&lt;span style=\"color: #3a3a3a; text-decoration-color: </span>          <span style=\"color: #7f7f7f; text-decoration-color: #7f7f7f\">                </span>\n",
       "<span style=\"color: #7fbfbf; text-decoration-color: #7fbfbf\">           </span>         <span style=\"color: #008000; text-decoration-color: #008000\">#3a3a3a\"&gt;━&lt;/span&gt;&lt;span style=\"color: #3e393b; text-decoration-color: </span>          <span style=\"color: #7f7f7f; text-decoration-color: #7f7f7f\">                </span>\n",
       "<span style=\"color: #7fbfbf; text-decoration-color: #7fbfbf\">           </span>         <span style=\"color: #008000; text-decoration-color: #008000\">#3e393b\"&gt;━&lt;/span&gt;&lt;span style=\"color: #4c383f; text-decoration-color: </span>          <span style=\"color: #7f7f7f; text-decoration-color: #7f7f7f\">                </span>\n",
       "<span style=\"color: #7fbfbf; text-decoration-color: #7fbfbf\">           </span>         <span style=\"color: #008000; text-decoration-color: #008000\">#4c383f\"&gt;━&lt;/span&gt;&lt;span style=\"color: #613545; text-decoration-color: </span>          <span style=\"color: #7f7f7f; text-decoration-color: #7f7f7f\">                </span>\n",
       "<span style=\"color: #7fbfbf; text-decoration-color: #7fbfbf\">           </span>         <span style=\"color: #008000; text-decoration-color: #008000\">#613545\"&gt;━&lt;/span&gt;&lt;span style=\"color: #7b334d; text-decoration-color: </span>          <span style=\"color: #7f7f7f; text-decoration-color: #7f7f7f\">                </span>\n",
       "<span style=\"color: #7fbfbf; text-decoration-color: #7fbfbf\">           </span>         <span style=\"color: #008000; text-decoration-color: #008000\">#7b334d\"&gt;━&lt;/span&gt;&lt;span style=\"color: #993056; text-decoration-color: </span>          <span style=\"color: #7f7f7f; text-decoration-color: #7f7f7f\">                </span>\n",
       "<span style=\"color: #7fbfbf; text-decoration-color: #7fbfbf\">           </span>         <span style=\"color: #008000; text-decoration-color: #008000\">#993056\"&gt;━&lt;/span&gt;&lt;span style=\"color: #b72c5e; text-decoration-color: </span>          <span style=\"color: #7f7f7f; text-decoration-color: #7f7f7f\">                </span>\n",
       "<span style=\"color: #7fbfbf; text-decoration-color: #7fbfbf\">           </span>         <span style=\"color: #008000; text-decoration-color: #008000\">#b72c5e\"&gt;━&lt;/span&gt;&lt;span style=\"color: #d12a66; text-decoration-color: </span>          <span style=\"color: #7f7f7f; text-decoration-color: #7f7f7f\">                </span>\n",
       "<span style=\"color: #7fbfbf; text-decoration-color: #7fbfbf\">           </span>         <span style=\"color: #008000; text-decoration-color: #008000\">#d12a66\"&gt;━&lt;/span&gt;&lt;span style=\"color: #e6276c; text-decoration-color: </span>          <span style=\"color: #7f7f7f; text-decoration-color: #7f7f7f\">                </span>\n",
       "<span style=\"color: #7fbfbf; text-decoration-color: #7fbfbf\">           </span>         <span style=\"color: #008000; text-decoration-color: #008000\">#e6276c\"&gt;━&lt;/span&gt;&lt;span style=\"color: #f42670; text-decoration-color: </span>          <span style=\"color: #7f7f7f; text-decoration-color: #7f7f7f\">                </span>\n",
       "<span style=\"color: #7fbfbf; text-decoration-color: #7fbfbf\">           </span>         <span style=\"color: #008000; text-decoration-color: #008000\">#f42670\"&gt;━&lt;/span&gt;&lt;span style=\"color: #f92672; text-decoration-color: </span>          <span style=\"color: #7f7f7f; text-decoration-color: #7f7f7f\">                </span>\n",
       "<span style=\"color: #7fbfbf; text-decoration-color: #7fbfbf\">           </span>         <span style=\"color: #008000; text-decoration-color: #008000\">#f92672\"&gt;━&lt;/span&gt;&lt;span style=\"color: #f42670; text-decoration-color: </span>          <span style=\"color: #7f7f7f; text-decoration-color: #7f7f7f\">                </span>\n",
       "<span style=\"color: #7fbfbf; text-decoration-color: #7fbfbf\">           </span>         <span style=\"color: #008000; text-decoration-color: #008000\">#f42670\"&gt;━&lt;/span&gt;&lt;span style=\"color: #e6276c; text-decoration-color: </span>          <span style=\"color: #7f7f7f; text-decoration-color: #7f7f7f\">                </span>\n",
       "<span style=\"color: #7fbfbf; text-decoration-color: #7fbfbf\">           </span>         <span style=\"color: #008000; text-decoration-color: #008000\">#e6276c\"&gt;━&lt;/span&gt;&lt;span style=\"color: #d12a66; text-decoration-color: </span>          <span style=\"color: #7f7f7f; text-decoration-color: #7f7f7f\">                </span>\n",
       "<span style=\"color: #7fbfbf; text-decoration-color: #7fbfbf\">           </span>         <span style=\"color: #008000; text-decoration-color: #008000\">#d12a66\"&gt;━&lt;/span&gt;  &lt;span style=\"color: #008080; text-decoration-color: </span>        <span style=\"color: #7f7f7f; text-decoration-color: #7f7f7f\">                </span>\n",
       "<span style=\"color: #7fbfbf; text-decoration-color: #7fbfbf\">           </span>         <span style=\"color: #008000; text-decoration-color: #008000\">#008080\"&gt; &lt;/span&gt;\\n&lt;/pre&gt;\\n'</span><span style=\"font-weight: bold\">}</span>, <span style=\"color: #008000; text-decoration-color: #008000\">'metadata'</span>: <span style=\"font-weight: bold\">{}}]}</span>, <span style=\"color: #008000; text-decoration-color: #008000\">'buffer_paths'</span>: <span style=\"font-weight: bold\">[]}}</span>,        <span style=\"color: #7f7f7f; text-decoration-color: #7f7f7f\">                </span>\n",
       "<span style=\"color: #7fbfbf; text-decoration-color: #7fbfbf\">           </span>         <span style=\"color: #008000; text-decoration-color: #008000\">'buffers'</span>: <span style=\"font-weight: bold\">[]})</span>                                                                <span style=\"color: #7f7f7f; text-decoration-color: #7f7f7f\">                </span>\n",
       "</pre>\n"
      ],
      "text/plain": [
       "\u001b[2;36m          \u001b[0m\u001b[2;36m \u001b[0m\u001b[32mDEBUG   \u001b[0m handle_msg\u001b[1m[\u001b[0m1352b544531545f6854c4de845278dcf\u001b[1m]\u001b[0m\u001b[1m(\u001b[0m\u001b[1m{\u001b[0m\u001b[32m'header'\u001b[0m: \u001b[1m{\u001b[0m\u001b[32m'date'\u001b[0m:               \u001b]8;id=640138;file:///Users/albertoquintana/miniconda3/envs/ml/lib/python3.11/site-packages/comm/base_comm.py\u001b\\\u001b[2mbase_comm.py\u001b[0m\u001b]8;;\u001b\\\u001b[2m:\u001b[0m\u001b]8;id=865221;file:///Users/albertoquintana/miniconda3/envs/ml/lib/python3.11/site-packages/comm/base_comm.py#150\u001b\\\u001b[2m150\u001b[0m\u001b]8;;\u001b\\\n",
       "\u001b[2;36m           \u001b[0m         \u001b[1;35mdatetime.datetime\u001b[0m\u001b[1m(\u001b[0m\u001b[1;36m2023\u001b[0m, \u001b[1;36m10\u001b[0m, \u001b[1;36m9\u001b[0m, \u001b[1;36m16\u001b[0m, \u001b[1;36m43\u001b[0m, \u001b[1;36m28\u001b[0m, \u001b[1;36m622000\u001b[0m, \u001b[33mtzinfo\u001b[0m=\u001b[1;35mtzutc\u001b[0m\u001b[1m(\u001b[0m\u001b[1m)\u001b[0m\u001b[1m)\u001b[0m, \u001b[32m'msg_id'\u001b[0m:  \u001b[2m                \u001b[0m\n",
       "\u001b[2;36m           \u001b[0m         \u001b[32m'204a29a1-3e39-4e12-8c35-b9fecb824fc2'\u001b[0m, \u001b[32m'msg_type'\u001b[0m: \u001b[32m'comm_msg'\u001b[0m, \u001b[32m'session'\u001b[0m:     \u001b[2m                \u001b[0m\n",
       "\u001b[2;36m           \u001b[0m         \u001b[32m'ac00f2ef-d869-4843-a1cb-cd1e22c165ae'\u001b[0m, \u001b[32m'username'\u001b[0m:                            \u001b[2m                \u001b[0m\n",
       "\u001b[2;36m           \u001b[0m         \u001b[32m'7f582236-5886-404f-a2bd-a86a3955d991'\u001b[0m, \u001b[32m'version'\u001b[0m: \u001b[32m'5.2'\u001b[0m\u001b[1m}\u001b[0m, \u001b[32m'msg_id'\u001b[0m:           \u001b[2m                \u001b[0m\n",
       "\u001b[2;36m           \u001b[0m         \u001b[32m'204a29a1-3e39-4e12-8c35-b9fecb824fc2'\u001b[0m, \u001b[32m'msg_type'\u001b[0m: \u001b[32m'comm_msg'\u001b[0m,                \u001b[2m                \u001b[0m\n",
       "\u001b[2;36m           \u001b[0m         \u001b[32m'parent_header'\u001b[0m: \u001b[1m{\u001b[0m\u001b[1m}\u001b[0m, \u001b[32m'metadata'\u001b[0m: \u001b[1m{\u001b[0m\u001b[1m}\u001b[0m, \u001b[32m'content'\u001b[0m: \u001b[1m{\u001b[0m\u001b[32m'comm_id'\u001b[0m:                    \u001b[2m                \u001b[0m\n",
       "\u001b[2;36m           \u001b[0m         \u001b[32m'1352b544531545f6854c4de845278dcf'\u001b[0m, \u001b[32m'data'\u001b[0m: \u001b[1m{\u001b[0m\u001b[32m'method'\u001b[0m: \u001b[32m'update'\u001b[0m, \u001b[32m'state'\u001b[0m:      \u001b[2m                \u001b[0m\n",
       "\u001b[2;36m           \u001b[0m         \u001b[1m{\u001b[0m\u001b[32m'outputs'\u001b[0m: \u001b[1m[\u001b[0m\u001b[1m{\u001b[0m\u001b[32m'output_type'\u001b[0m: \u001b[32m'display_data'\u001b[0m, \u001b[32m'data'\u001b[0m: \u001b[1m{\u001b[0m\u001b[32m'text/plain'\u001b[0m: \u001b[32m'Running \u001b[0m  \u001b[2m                \u001b[0m\n",
       "\u001b[2;36m           \u001b[0m         \u001b[32mk-fold cross-validation... \u001b[0m                                                    \u001b[2m                \u001b[0m\n",
       "\u001b[2;36m           \u001b[0m         \u001b[32m\\x1b\u001b[0m\u001b[32m[\u001b[0m\u001b[32m38;2;183;44;94m━\\x1b\u001b[0m\u001b[32m[\u001b[0m\u001b[32m0m\\x1b\u001b[0m\u001b[32m[\u001b[0m\u001b[32m38;2;153;48;86m━\\x1b\u001b[0m\u001b[32m[\u001b[0m\u001b[32m0m\\x1b\u001b[0m\u001b[32m[\u001b[0m\u001b[32m38;2;123;51;77m━\\\u001b[0m \u001b[2m                \u001b[0m\n",
       "\u001b[2;36m           \u001b[0m         \u001b[32mx1b\u001b[0m\u001b[32m[\u001b[0m\u001b[32m0m\\x1b\u001b[0m\u001b[32m[\u001b[0m\u001b[32m38;2;97;53;69m━\\x1b\u001b[0m\u001b[32m[\u001b[0m\u001b[32m0m\\x1b\u001b[0m\u001b[32m[\u001b[0m\u001b[32m38;2;76;56;63m━\\x1b\u001b[0m\u001b[32m[\u001b[0m\u001b[32m0m\\x1b\u001b[0m\u001b[32m[\u001b[0m\u001b[32m38;2;62;57;59\u001b[0m \u001b[2m                \u001b[0m\n",
       "\u001b[2;36m           \u001b[0m         \u001b[32mm━\\x1b\u001b[0m\u001b[32m[\u001b[0m\u001b[32m0m\\x1b\u001b[0m\u001b[32m[\u001b[0m\u001b[32m38;2;58;58;58m━\\x1b\u001b[0m\u001b[32m[\u001b[0m\u001b[32m0m\\x1b\u001b[0m\u001b[32m[\u001b[0m\u001b[32m38;2;62;57;59m━\\x1b\u001b[0m\u001b[32m[\u001b[0m\u001b[32m0m\\x1b\u001b[0m\u001b[32m[\u001b[0m\u001b[32m38;2;76;56\u001b[0m \u001b[2m                \u001b[0m\n",
       "\u001b[2;36m           \u001b[0m         \u001b[32m;63m━\\x1b\u001b[0m\u001b[32m[\u001b[0m\u001b[32m0m\\x1b\u001b[0m\u001b[32m[\u001b[0m\u001b[32m38;2;97;53;69m━\\x1b\u001b[0m\u001b[32m[\u001b[0m\u001b[32m0m\\x1b\u001b[0m\u001b[32m[\u001b[0m\u001b[32m38;2;123;51;77m━\\x1b\u001b[0m\u001b[32m[\u001b[0m\u001b[32m0m\\x1b\u001b[0m\u001b[32m[\u001b[0m\u001b[32m38;2;1\u001b[0m \u001b[2m                \u001b[0m\n",
       "\u001b[2;36m           \u001b[0m         \u001b[32m53;48;86m━\\x1b\u001b[0m\u001b[32m[\u001b[0m\u001b[32m0m\\x1b\u001b[0m\u001b[32m[\u001b[0m\u001b[32m38;2;183;44;94m━\\x1b\u001b[0m\u001b[32m[\u001b[0m\u001b[32m0m\\x1b\u001b[0m\u001b[32m[\u001b[0m\u001b[32m38;2;209;42;102m━\\x1b\u001b[0m\u001b[32m[\u001b[0m\u001b[32m0m\\x1b\u001b[0m \u001b[2m                \u001b[0m\n",
       "\u001b[2;36m           \u001b[0m         \u001b[32m[\u001b[0m\u001b[32m38;2;230;39;108m━\\x1b\u001b[0m\u001b[32m[\u001b[0m\u001b[32m0m\\x1b\u001b[0m\u001b[32m[\u001b[0m\u001b[32m38;2;244;38;112m━\\x1b\u001b[0m\u001b[32m[\u001b[0m\u001b[32m0m\\x1b\u001b[0m\u001b[32m[\u001b[0m\u001b[32m38;2;249;38;114m━\\x\u001b[0m \u001b[2m                \u001b[0m\n",
       "\u001b[2;36m           \u001b[0m         \u001b[32m1b\u001b[0m\u001b[32m[\u001b[0m\u001b[32m0m\\x1b\u001b[0m\u001b[32m[\u001b[0m\u001b[32m38;2;244;38;112m━\\x1b\u001b[0m\u001b[32m[\u001b[0m\u001b[32m0m\\x1b\u001b[0m\u001b[32m[\u001b[0m\u001b[32m38;2;230;39;108m━\\x1b\u001b[0m\u001b[32m[\u001b[0m\u001b[32m0m\\x1b\u001b[0m\u001b[32m[\u001b[0m\u001b[32m38;2;209;4\u001b[0m \u001b[2m                \u001b[0m\n",
       "\u001b[2;36m           \u001b[0m         \u001b[32m2;102m━\\x1b\u001b[0m\u001b[32m[\u001b[0m\u001b[32m0m\\x1b\u001b[0m\u001b[32m[\u001b[0m\u001b[32m38;2;183;44;94m━\\x1b\u001b[0m\u001b[32m[\u001b[0m\u001b[32m0m\\x1b\u001b[0m\u001b[32m[\u001b[0m\u001b[32m38;2;153;48;86m━\\x1b\u001b[0m\u001b[32m[\u001b[0m\u001b[32m0m\\x1b\u001b[0m\u001b[32m[\u001b[0m\u001b[32m38;\u001b[0m \u001b[2m                \u001b[0m\n",
       "\u001b[2;36m           \u001b[0m         \u001b[32m2;123;51;77m━\\x1b\u001b[0m\u001b[32m[\u001b[0m\u001b[32m0m\\x1b\u001b[0m\u001b[32m[\u001b[0m\u001b[32m38;2;97;53;69m━\\x1b\u001b[0m\u001b[32m[\u001b[0m\u001b[32m0m\\x1b\u001b[0m\u001b[32m[\u001b[0m\u001b[32m38;2;76;56;63m━\\x1b\u001b[0m\u001b[32m[\u001b[0m\u001b[32m0m\\x1b\u001b[0m \u001b[2m                \u001b[0m\n",
       "\u001b[2;36m           \u001b[0m         \u001b[32m[\u001b[0m\u001b[32m38;2;62;57;59m━\\x1b\u001b[0m\u001b[32m[\u001b[0m\u001b[32m0m\\x1b\u001b[0m\u001b[32m[\u001b[0m\u001b[32m38;2;58;58;58m━\\x1b\u001b[0m\u001b[32m[\u001b[0m\u001b[32m0m\\x1b\u001b[0m\u001b[32m[\u001b[0m\u001b[32m38;2;62;57;59m━\\x1b\u001b[0m\u001b[32m[\u001b[0m\u001b[32m0m\\\u001b[0m \u001b[2m                \u001b[0m\n",
       "\u001b[2;36m           \u001b[0m         \u001b[32mx1b\u001b[0m\u001b[32m[\u001b[0m\u001b[32m38;2;76;56;63m━\\x1b\u001b[0m\u001b[32m[\u001b[0m\u001b[32m0m\\x1b\u001b[0m\u001b[32m[\u001b[0m\u001b[32m38;2;97;53;69m━\\x1b\u001b[0m\u001b[32m[\u001b[0m\u001b[32m0m\\x1b\u001b[0m\u001b[32m[\u001b[0m\u001b[32m38;2;123;51;77m━\\x1b\u001b[0m \u001b[2m                \u001b[0m\n",
       "\u001b[2;36m           \u001b[0m         \u001b[32m[\u001b[0m\u001b[32m0m\\x1b\u001b[0m\u001b[32m[\u001b[0m\u001b[32m38;2;153;48;86m━\\x1b\u001b[0m\u001b[32m[\u001b[0m\u001b[32m0m\\x1b\u001b[0m\u001b[32m[\u001b[0m\u001b[32m38;2;183;44;94m━\\x1b\u001b[0m\u001b[32m[\u001b[0m\u001b[32m0m\\x1b\u001b[0m\u001b[32m[\u001b[0m\u001b[32m38;2;209;42;10\u001b[0m \u001b[2m                \u001b[0m\n",
       "\u001b[2;36m           \u001b[0m         \u001b[32m2m━\\x1b\u001b[0m\u001b[32m[\u001b[0m\u001b[32m0m\\x1b\u001b[0m\u001b[32m[\u001b[0m\u001b[32m38;2;230;39;108m━\\x1b\u001b[0m\u001b[32m[\u001b[0m\u001b[32m0m\\x1b\u001b[0m\u001b[32m[\u001b[0m\u001b[32m38;2;244;38;112m━\\x1b\u001b[0m\u001b[32m[\u001b[0m\u001b[32m0m\\x1b\u001b[0m\u001b[32m[\u001b[0m\u001b[32m38;2;\u001b[0m \u001b[2m                \u001b[0m\n",
       "\u001b[2;36m           \u001b[0m         \u001b[32m249;38;114m━\\x1b\u001b[0m\u001b[32m[\u001b[0m\u001b[32m0m\\x1b\u001b[0m\u001b[32m[\u001b[0m\u001b[32m38;2;244;38;112m━\\x1b\u001b[0m\u001b[32m[\u001b[0m\u001b[32m0m\\x1b\u001b[0m\u001b[32m[\u001b[0m\u001b[32m38;2;230;39;108m━\\x1b\u001b[0m\u001b[32m[\u001b[0m\u001b[32m0m\\\u001b[0m \u001b[2m                \u001b[0m\n",
       "\u001b[2;36m           \u001b[0m         \u001b[32mx1b\u001b[0m\u001b[32m[\u001b[0m\u001b[32m38;2;209;42;102m━\\x1b\u001b[0m\u001b[32m[\u001b[0m\u001b[32m0m  \\x1b\u001b[0m\u001b[32m[\u001b[0m\u001b[32m36m \\x1b\u001b[0m\u001b[32m[\u001b[0m\u001b[32m0m\\n'\u001b[0m, \u001b[32m'text/html'\u001b[0m: \u001b[32m'\u001b[0m\u001b[32m<\u001b[0m\u001b[32mpre\u001b[0m\u001b[32m \u001b[0m         \u001b[2m                \u001b[0m\n",
       "\u001b[2;36m           \u001b[0m         \u001b[32mstyle\u001b[0m\u001b[32m=\u001b[0m\u001b[32m\"white\u001b[0m\u001b[32m-space:pre;overflow-x:auto;line-height:normal;font-family:Menlo,\\'\u001b[0m \u001b[2m                \u001b[0m\n",
       "\u001b[2;36m           \u001b[0m         \u001b[32mDejaVu Sans Mono\\',consolas,\\'Courier New\\',monospace\">Running k-fold \u001b[0m         \u001b[2m                \u001b[0m\n",
       "\u001b[2;36m           \u001b[0m         \u001b[32mcross-validation... <span \u001b[0m\u001b[32mstyle\u001b[0m\u001b[32m=\u001b[0m\u001b[32m\"color\u001b[0m\u001b[32m: #b72c5e; text-decoration-color: \u001b[0m       \u001b[2m                \u001b[0m\n",
       "\u001b[2;36m           \u001b[0m         \u001b[32m#b72c5e\">━</span><span \u001b[0m\u001b[32mstyle\u001b[0m\u001b[32m=\u001b[0m\u001b[32m\"color\u001b[0m\u001b[32m: #993056; text-decoration-color: \u001b[0m          \u001b[2m                \u001b[0m\n",
       "\u001b[2;36m           \u001b[0m         \u001b[32m#993056\">━</span><span \u001b[0m\u001b[32mstyle\u001b[0m\u001b[32m=\u001b[0m\u001b[32m\"color\u001b[0m\u001b[32m: #7b334d; text-decoration-color: \u001b[0m          \u001b[2m                \u001b[0m\n",
       "\u001b[2;36m           \u001b[0m         \u001b[32m#7b334d\">━</span><span \u001b[0m\u001b[32mstyle\u001b[0m\u001b[32m=\u001b[0m\u001b[32m\"color\u001b[0m\u001b[32m: #613545; text-decoration-color: \u001b[0m          \u001b[2m                \u001b[0m\n",
       "\u001b[2;36m           \u001b[0m         \u001b[32m#613545\">━</span><span \u001b[0m\u001b[32mstyle\u001b[0m\u001b[32m=\u001b[0m\u001b[32m\"color\u001b[0m\u001b[32m: #4c383f; text-decoration-color: \u001b[0m          \u001b[2m                \u001b[0m\n",
       "\u001b[2;36m           \u001b[0m         \u001b[32m#4c383f\">━</span><span \u001b[0m\u001b[32mstyle\u001b[0m\u001b[32m=\u001b[0m\u001b[32m\"color\u001b[0m\u001b[32m: #3e393b; text-decoration-color: \u001b[0m          \u001b[2m                \u001b[0m\n",
       "\u001b[2;36m           \u001b[0m         \u001b[32m#3e393b\">━</span><span \u001b[0m\u001b[32mstyle\u001b[0m\u001b[32m=\u001b[0m\u001b[32m\"color\u001b[0m\u001b[32m: #3a3a3a; text-decoration-color: \u001b[0m          \u001b[2m                \u001b[0m\n",
       "\u001b[2;36m           \u001b[0m         \u001b[32m#3a3a3a\">━</span><span \u001b[0m\u001b[32mstyle\u001b[0m\u001b[32m=\u001b[0m\u001b[32m\"color\u001b[0m\u001b[32m: #3e393b; text-decoration-color: \u001b[0m          \u001b[2m                \u001b[0m\n",
       "\u001b[2;36m           \u001b[0m         \u001b[32m#3e393b\">━</span><span \u001b[0m\u001b[32mstyle\u001b[0m\u001b[32m=\u001b[0m\u001b[32m\"color\u001b[0m\u001b[32m: #4c383f; text-decoration-color: \u001b[0m          \u001b[2m                \u001b[0m\n",
       "\u001b[2;36m           \u001b[0m         \u001b[32m#4c383f\">━</span><span \u001b[0m\u001b[32mstyle\u001b[0m\u001b[32m=\u001b[0m\u001b[32m\"color\u001b[0m\u001b[32m: #613545; text-decoration-color: \u001b[0m          \u001b[2m                \u001b[0m\n",
       "\u001b[2;36m           \u001b[0m         \u001b[32m#613545\">━</span><span \u001b[0m\u001b[32mstyle\u001b[0m\u001b[32m=\u001b[0m\u001b[32m\"color\u001b[0m\u001b[32m: #7b334d; text-decoration-color: \u001b[0m          \u001b[2m                \u001b[0m\n",
       "\u001b[2;36m           \u001b[0m         \u001b[32m#7b334d\">━</span><span \u001b[0m\u001b[32mstyle\u001b[0m\u001b[32m=\u001b[0m\u001b[32m\"color\u001b[0m\u001b[32m: #993056; text-decoration-color: \u001b[0m          \u001b[2m                \u001b[0m\n",
       "\u001b[2;36m           \u001b[0m         \u001b[32m#993056\">━</span><span \u001b[0m\u001b[32mstyle\u001b[0m\u001b[32m=\u001b[0m\u001b[32m\"color\u001b[0m\u001b[32m: #b72c5e; text-decoration-color: \u001b[0m          \u001b[2m                \u001b[0m\n",
       "\u001b[2;36m           \u001b[0m         \u001b[32m#b72c5e\">━</span><span \u001b[0m\u001b[32mstyle\u001b[0m\u001b[32m=\u001b[0m\u001b[32m\"color\u001b[0m\u001b[32m: #d12a66; text-decoration-color: \u001b[0m          \u001b[2m                \u001b[0m\n",
       "\u001b[2;36m           \u001b[0m         \u001b[32m#d12a66\">━</span><span \u001b[0m\u001b[32mstyle\u001b[0m\u001b[32m=\u001b[0m\u001b[32m\"color\u001b[0m\u001b[32m: #e6276c; text-decoration-color: \u001b[0m          \u001b[2m                \u001b[0m\n",
       "\u001b[2;36m           \u001b[0m         \u001b[32m#e6276c\">━</span><span \u001b[0m\u001b[32mstyle\u001b[0m\u001b[32m=\u001b[0m\u001b[32m\"color\u001b[0m\u001b[32m: #f42670; text-decoration-color: \u001b[0m          \u001b[2m                \u001b[0m\n",
       "\u001b[2;36m           \u001b[0m         \u001b[32m#f42670\">━</span><span \u001b[0m\u001b[32mstyle\u001b[0m\u001b[32m=\u001b[0m\u001b[32m\"color\u001b[0m\u001b[32m: #f92672; text-decoration-color: \u001b[0m          \u001b[2m                \u001b[0m\n",
       "\u001b[2;36m           \u001b[0m         \u001b[32m#f92672\">━</span><span \u001b[0m\u001b[32mstyle\u001b[0m\u001b[32m=\u001b[0m\u001b[32m\"color\u001b[0m\u001b[32m: #f42670; text-decoration-color: \u001b[0m          \u001b[2m                \u001b[0m\n",
       "\u001b[2;36m           \u001b[0m         \u001b[32m#f42670\">━</span><span \u001b[0m\u001b[32mstyle\u001b[0m\u001b[32m=\u001b[0m\u001b[32m\"color\u001b[0m\u001b[32m: #e6276c; text-decoration-color: \u001b[0m          \u001b[2m                \u001b[0m\n",
       "\u001b[2;36m           \u001b[0m         \u001b[32m#e6276c\">━</span><span \u001b[0m\u001b[32mstyle\u001b[0m\u001b[32m=\u001b[0m\u001b[32m\"color\u001b[0m\u001b[32m: #d12a66; text-decoration-color: \u001b[0m          \u001b[2m                \u001b[0m\n",
       "\u001b[2;36m           \u001b[0m         \u001b[32m#d12a66\">━</span><span \u001b[0m\u001b[32mstyle\u001b[0m\u001b[32m=\u001b[0m\u001b[32m\"color\u001b[0m\u001b[32m: #b72c5e; text-decoration-color: \u001b[0m          \u001b[2m                \u001b[0m\n",
       "\u001b[2;36m           \u001b[0m         \u001b[32m#b72c5e\">━</span><span \u001b[0m\u001b[32mstyle\u001b[0m\u001b[32m=\u001b[0m\u001b[32m\"color\u001b[0m\u001b[32m: #993056; text-decoration-color: \u001b[0m          \u001b[2m                \u001b[0m\n",
       "\u001b[2;36m           \u001b[0m         \u001b[32m#993056\">━</span><span \u001b[0m\u001b[32mstyle\u001b[0m\u001b[32m=\u001b[0m\u001b[32m\"color\u001b[0m\u001b[32m: #7b334d; text-decoration-color: \u001b[0m          \u001b[2m                \u001b[0m\n",
       "\u001b[2;36m           \u001b[0m         \u001b[32m#7b334d\">━</span><span \u001b[0m\u001b[32mstyle\u001b[0m\u001b[32m=\u001b[0m\u001b[32m\"color\u001b[0m\u001b[32m: #613545; text-decoration-color: \u001b[0m          \u001b[2m                \u001b[0m\n",
       "\u001b[2;36m           \u001b[0m         \u001b[32m#613545\">━</span><span \u001b[0m\u001b[32mstyle\u001b[0m\u001b[32m=\u001b[0m\u001b[32m\"color\u001b[0m\u001b[32m: #4c383f; text-decoration-color: \u001b[0m          \u001b[2m                \u001b[0m\n",
       "\u001b[2;36m           \u001b[0m         \u001b[32m#4c383f\">━</span><span \u001b[0m\u001b[32mstyle\u001b[0m\u001b[32m=\u001b[0m\u001b[32m\"color\u001b[0m\u001b[32m: #3e393b; text-decoration-color: \u001b[0m          \u001b[2m                \u001b[0m\n",
       "\u001b[2;36m           \u001b[0m         \u001b[32m#3e393b\">━</span><span \u001b[0m\u001b[32mstyle\u001b[0m\u001b[32m=\u001b[0m\u001b[32m\"color\u001b[0m\u001b[32m: #3a3a3a; text-decoration-color: \u001b[0m          \u001b[2m                \u001b[0m\n",
       "\u001b[2;36m           \u001b[0m         \u001b[32m#3a3a3a\">━</span><span \u001b[0m\u001b[32mstyle\u001b[0m\u001b[32m=\u001b[0m\u001b[32m\"color\u001b[0m\u001b[32m: #3e393b; text-decoration-color: \u001b[0m          \u001b[2m                \u001b[0m\n",
       "\u001b[2;36m           \u001b[0m         \u001b[32m#3e393b\">━</span><span \u001b[0m\u001b[32mstyle\u001b[0m\u001b[32m=\u001b[0m\u001b[32m\"color\u001b[0m\u001b[32m: #4c383f; text-decoration-color: \u001b[0m          \u001b[2m                \u001b[0m\n",
       "\u001b[2;36m           \u001b[0m         \u001b[32m#4c383f\">━</span><span \u001b[0m\u001b[32mstyle\u001b[0m\u001b[32m=\u001b[0m\u001b[32m\"color\u001b[0m\u001b[32m: #613545; text-decoration-color: \u001b[0m          \u001b[2m                \u001b[0m\n",
       "\u001b[2;36m           \u001b[0m         \u001b[32m#613545\">━</span><span \u001b[0m\u001b[32mstyle\u001b[0m\u001b[32m=\u001b[0m\u001b[32m\"color\u001b[0m\u001b[32m: #7b334d; text-decoration-color: \u001b[0m          \u001b[2m                \u001b[0m\n",
       "\u001b[2;36m           \u001b[0m         \u001b[32m#7b334d\">━</span><span \u001b[0m\u001b[32mstyle\u001b[0m\u001b[32m=\u001b[0m\u001b[32m\"color\u001b[0m\u001b[32m: #993056; text-decoration-color: \u001b[0m          \u001b[2m                \u001b[0m\n",
       "\u001b[2;36m           \u001b[0m         \u001b[32m#993056\">━</span><span \u001b[0m\u001b[32mstyle\u001b[0m\u001b[32m=\u001b[0m\u001b[32m\"color\u001b[0m\u001b[32m: #b72c5e; text-decoration-color: \u001b[0m          \u001b[2m                \u001b[0m\n",
       "\u001b[2;36m           \u001b[0m         \u001b[32m#b72c5e\">━</span><span \u001b[0m\u001b[32mstyle\u001b[0m\u001b[32m=\u001b[0m\u001b[32m\"color\u001b[0m\u001b[32m: #d12a66; text-decoration-color: \u001b[0m          \u001b[2m                \u001b[0m\n",
       "\u001b[2;36m           \u001b[0m         \u001b[32m#d12a66\">━</span><span \u001b[0m\u001b[32mstyle\u001b[0m\u001b[32m=\u001b[0m\u001b[32m\"color\u001b[0m\u001b[32m: #e6276c; text-decoration-color: \u001b[0m          \u001b[2m                \u001b[0m\n",
       "\u001b[2;36m           \u001b[0m         \u001b[32m#e6276c\">━</span><span \u001b[0m\u001b[32mstyle\u001b[0m\u001b[32m=\u001b[0m\u001b[32m\"color\u001b[0m\u001b[32m: #f42670; text-decoration-color: \u001b[0m          \u001b[2m                \u001b[0m\n",
       "\u001b[2;36m           \u001b[0m         \u001b[32m#f42670\">━</span><span \u001b[0m\u001b[32mstyle\u001b[0m\u001b[32m=\u001b[0m\u001b[32m\"color\u001b[0m\u001b[32m: #f92672; text-decoration-color: \u001b[0m          \u001b[2m                \u001b[0m\n",
       "\u001b[2;36m           \u001b[0m         \u001b[32m#f92672\">━</span><span \u001b[0m\u001b[32mstyle\u001b[0m\u001b[32m=\u001b[0m\u001b[32m\"color\u001b[0m\u001b[32m: #f42670; text-decoration-color: \u001b[0m          \u001b[2m                \u001b[0m\n",
       "\u001b[2;36m           \u001b[0m         \u001b[32m#f42670\">━</span><span \u001b[0m\u001b[32mstyle\u001b[0m\u001b[32m=\u001b[0m\u001b[32m\"color\u001b[0m\u001b[32m: #e6276c; text-decoration-color: \u001b[0m          \u001b[2m                \u001b[0m\n",
       "\u001b[2;36m           \u001b[0m         \u001b[32m#e6276c\">━</span><span \u001b[0m\u001b[32mstyle\u001b[0m\u001b[32m=\u001b[0m\u001b[32m\"color\u001b[0m\u001b[32m: #d12a66; text-decoration-color: \u001b[0m          \u001b[2m                \u001b[0m\n",
       "\u001b[2;36m           \u001b[0m         \u001b[32m#d12a66\">━</span>  <span \u001b[0m\u001b[32mstyle\u001b[0m\u001b[32m=\u001b[0m\u001b[32m\"color\u001b[0m\u001b[32m: #008080; text-decoration-color: \u001b[0m        \u001b[2m                \u001b[0m\n",
       "\u001b[2;36m           \u001b[0m         \u001b[32m#008080\"> </span>\\n</pre\u001b[0m\u001b[32m>\u001b[0m\u001b[32m\\n'\u001b[0m\u001b[1m}\u001b[0m, \u001b[32m'metadata'\u001b[0m: \u001b[1m{\u001b[0m\u001b[1m}\u001b[0m\u001b[1m}\u001b[0m\u001b[1m]\u001b[0m\u001b[1m}\u001b[0m, \u001b[32m'buffer_paths'\u001b[0m: \u001b[1m[\u001b[0m\u001b[1m]\u001b[0m\u001b[1m}\u001b[0m\u001b[1m}\u001b[0m,        \u001b[2m                \u001b[0m\n",
       "\u001b[2;36m           \u001b[0m         \u001b[32m'buffers'\u001b[0m: \u001b[1m[\u001b[0m\u001b[1m]\u001b[0m\u001b[1m}\u001b[0m\u001b[1m)\u001b[0m                                                                \u001b[2m                \u001b[0m\n"
      ]
     },
     "metadata": {},
     "output_type": "display_data"
    }
   ],
   "source": [
    "# To run k-fold cross-validation\n",
    "k_fold_xg(df, k=10)"
   ]
  }
 ],
 "metadata": {
  "kernelspec": {
   "display_name": "ml",
   "language": "python",
   "name": "python3"
  },
  "language_info": {
   "codemirror_mode": {
    "name": "ipython",
    "version": 3
   },
   "file_extension": ".py",
   "mimetype": "text/x-python",
   "name": "python",
   "nbconvert_exporter": "python",
   "pygments_lexer": "ipython3",
   "version": "3.11.4"
  }
 },
 "nbformat": 4,
 "nbformat_minor": 2
}
